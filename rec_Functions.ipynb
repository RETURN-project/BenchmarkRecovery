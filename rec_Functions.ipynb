{
 "cells": [
  {
   "cell_type": "markdown",
   "metadata": {},
   "source": [
    "# Functions - recovery indicators"
   ]
  },
  {
   "cell_type": "code",
   "execution_count": null,
   "metadata": {},
   "outputs": [],
   "source": [
    "library(strucchange)\n",
    "library(bfast)"
   ]
  },
  {
   "cell_type": "markdown",
   "metadata": {},
   "source": [
    "## 1. General functions"
   ]
  },
  {
   "cell_type": "markdown",
   "metadata": {},
   "source": [
    "### 1.1 Load RData file and returns it\n",
    "_The loadRData function is a substitute for the load function, allowing to assign a user defined variable name when loading a RData file._\n",
    "\n",
    "<font color=gray>__Function inputs__:\n",
    " - __fileName__: the path to the Rdata file that needs to be loaded</font>\n"
   ]
  },
  {
   "cell_type": "code",
   "execution_count": 1,
   "metadata": {},
   "outputs": [],
   "source": [
    "loadRData <- function(fileName){\n",
    "  #loads an RData file, and returns it\n",
    "  load(fileName)\n",
    "  get(ls()[ls() != \"fileName\"])\n",
    "}"
   ]
  },
  {
   "cell_type": "markdown",
   "metadata": {},
   "source": [
    "### 1.2 Convert time series to annual frequency\n",
    "*The toAnnualTS function converts a time series with n observations per year to an annual time series (one observation per year). The main concept is to select observations per year closest to a given day of year that have no missing value (NA). Here, the day of year for which the seasonality is maximum is being used.*\n",
    "\n",
    "<font color=gray>__Function inputs__:\n",
    " - __tsseas__: vector of observations (time series) representing the seasonal component of the time series to be converted\n",
    " - __tsi__: vector of observations (time series) that needs to be converted to an annual time series\n",
    " - __obspyr__: number of observations per year of the time series to be converted\n",
    " </font>\n",
    " \n",
    " <font color=gray>__Function outputs__:\n",
    " - __tsyr__: vector of observations (time series) with annual observation frequency\n",
    " </font>"
   ]
  },
  {
   "cell_type": "code",
   "execution_count": 2,
   "metadata": {},
   "outputs": [],
   "source": [
    "toAnnualTS <- function(tsseas, tsi, obspyr){\n",
    "    seasi <- rowMeans(matrix(tsseas, nrow = obspyr),na.rm=T)# average seasonality\n",
    "    smax <- which(seasi == max(seasi, na.rm=T))# yearly observation number with max seas\n",
    "    tsmi <- matrix(tsi, nrow = obspyr)\n",
    "    dst <- abs(matrix(rep(1:obspyr,times = (length(tsi)/obspyr)), nrow = obspyr)-smax)# distance of observations to seasonal max\n",
    "    dst[is.na(tsmi)] <- NA #set distance of NA observations equal to NA, these can not be selected\n",
    "    rsel <- as.matrix(apply(dst, 2, which.min))# row numbers of observations to be selected, i.e. those closest to seasonal max\n",
    "    toNA <- unlist(lapply(rsel, identical, integer(0)))# years without observation: assign temporary the first observation of the year\n",
    "    rsel[toNA] <- 1\n",
    "    rsel <- unlist(rsel) # rows to be selected\n",
    "    csel <- 1:dim(tsmi)[2] # columns to be selected\n",
    "    tsyr <- tsmi[rsel + nrow(tsmi) * (csel - 1)]# get values of yearly time series\n",
    "    tsyr[toNA] <- NA# years without observation: set value to NA\n",
    "    tsyr\n",
    "}\n",
    "\n"
   ]
  },
  {
   "cell_type": "markdown",
   "metadata": {},
   "source": [
    "## 2. Recovery "
   ]
  },
  {
   "cell_type": "markdown",
   "metadata": {},
   "source": [
    "### 2.1 Calculate recovery metrics from a time series with known disturbance date\n",
    "*The calcFrazier function derives the RRI, R80P and YrYr recovery indicators, defined by Frazier et al. (2018). The indicators are originally developped for annual long-term time series of optical vegetation indices (the indicators are shown in the figures below). Yet, in order to be able to derive the indicators as well for dense and/or short time series, a modified version is suggested. Here, the user can define the time period before, during and after the disturbance that is used to derive the indicators. To reduce the interference of the seasonal pattern of dense time series, the chosen time period should cover blocks of n years. Moreover, given the potentially high noise levels of dense time series, the mean value instead of the maximum value was used in the formulas.*\n",
    "\n",
    "<img src=\"Img/Frazier_RRI.jpg\" width=\"300\" height=\"300\" align=\"left\">\n",
    "<img src=\"Img/Frazier_R80P.jpg\" width=\"300\" height=\"300\" align=\"left\">\n",
    "<img src=\"Img/Frazier_YrYr.jpg\" width=\"300\" height=\"300\" align=\"left\">\n",
    "\n",
    "<br> <br><br><br><br><br><br><br><br>\n",
    "\n",
    "Frazier, R. J., Coops, N. C., Wulder, M. A., Hermosilla, T., & White, J. C. (2018). Analyzing spatial and temporal variability in short-term rates of post-fire vegetation return from Landsat time series. Remote Sensing of Environment, 205, 32-45.\n",
    "\n",
    "****\n",
    "\n",
    "<font color=gray>__Function inputs__:\n",
    " - __tsio__: vector of observations (time series with a fixed observation frequency)\n",
    " - __tdist__: observation number of disturbance, indicating the timing of the disturbance\n",
    " - __obspyr__: numer of observations per year\n",
    " - __shortDenseTS__: TRUE or FALSE. In case TRUE, the metrics are adjusted to be compatible with short, dense time series\n",
    " - __nPre__: If shortDenseTS is TRUE, number of years prior to the disturbance used to calculate the pre-disturbance value\n",
    " - __nDist__: If shortDenseTS is TRUE, number of months used to quantify the time series value during the disturbance\n",
    " - __nPostMin__: If shortDenseTS is TRUE,  the post-disturbance condition is quantified starting from nPostMin years after the disturbance\n",
    " - __nPostMax__: If shortDenseTS is TRUE, max number of years after the disturbance used to quantify the post-disturbance condition</font>\n",
    "\n",
    "<font color=gray>__Function outputs__:    \n",
    " - __RRI__: RRI recovery indicator\n",
    " - __R80P__: R80p recovery indicator\n",
    " - __YrYr__: YrYr recovery indicator</font>"
   ]
  },
  {
   "cell_type": "code",
   "execution_count": 4,
   "metadata": {},
   "outputs": [],
   "source": [
    "calcFrazier <- function(tsio, tdist, obspyr, shortDenseTS, nPre, nDist, nPostMin, nPostMax){\n",
    "    if(shortDenseTS){# Metrics adjusted for short, dense time series\n",
    "        # check if there are enough observations before and after the disturbance to calculate the metrics\n",
    "        if((tdist>((nPre*obspyr))) & (tdist < (length(tsio)-(nPostMax*obspyr)+1))){\n",
    "            # Vpre = pre-disturbance value, mean of observations within nPre year period prior to disturbance\n",
    "            Vpre <- mean(tsio[(tdist-(nPre*obspyr)):(tdist-1)], na.rm=T)\n",
    "            # V0 =  value during disturbance (over a period of one month)\n",
    "            V0 <- mean(tsio[tdist:(tdist+ (nDist*round(obspyr/12))-1)], na.rm=T)\n",
    "            # Ddist =  decrease due to disturbance (~impact)\n",
    "            Ddist <- Vpre-V0\n",
    "            # Post-disturbance value\n",
    "            Vpost <- mean(tsio[(tdist+(nPostMin*obspyr)):(tdist+(nPostMax*obspyr))], na.rm=T)\n",
    "            # ARI: difference between maximum value within nPost years after disturbance and the disturbance value\n",
    "            ARI <- Vpost - V0\n",
    "            # RRI: Relative Recovery Index (~recovery relative to impact)\n",
    "            RRI <- ARI/Ddist\n",
    "            # R80p recovery index (~ ability to reach 80% of pre-disturbance value)\n",
    "            R80P <- Vpost/(Vpre*0.8)\n",
    "            # YrYR recovery index (~ related to slope)\n",
    "            YrYr <- (Vpost-V0)/((nPostMax+nPostMin)/2)\n",
    "            # make list of recovery indicators as output of the function\n",
    "            lst <- list(RRI, R80P, YrYr)\n",
    "            names(lst) <- c('RRI', 'R80P', 'YrYr')\n",
    "            # give NA as output if not able to calculate the recovery indicatores\n",
    "        }else{\n",
    "            lst <- list(NA, NA, NA)\n",
    "            names(lst) <- c('RRI', 'R80P', 'YrYr')\n",
    "        }\n",
    "    }else{#original metrics, typically applied on long time series with annual observations\n",
    "        # check if there are enough observations before and after the disturbance to calculate the metrics\n",
    "        if((tdist>((2*obspyr))) & (tdist < (length(tsio)-(5*obspyr)+1))){\n",
    "            # Vpre = pre-disturbance value, mean of observations within nPre year period prior to disturbance\n",
    "            Vpre <- mean(tsio[(tdist-(2*obspyr)):(tdist-1)], na.rm=T)\n",
    "            # V0 =  value during disturbance (over a period of one month)\n",
    "            V0 <- tsio[tdist]\n",
    "            # Ddist =  decrease due to disturbance (~impact)\n",
    "            Ddist <- Vpre-V0\n",
    "            # ARI: difference between maximum value within nPost years after disturbance and the disturbance value\n",
    "            ARI <- max(tsio[(tdist +(4+obspyr)):(tdist+(5*obspyr))], na.rm=T) - V0\n",
    "            # RRI: Relative Recovery Index (~recovery relative to impact)\n",
    "            RRI <- ARI/Ddist\n",
    "            if(is.infinite(RRI)){RRI <- NA}\n",
    "            # R80p recovery index (~ ability to reach 80% of pre-disturbance value)\n",
    "            R80P <- max(tsio[(tdist +(4+obspyr)):(tdist+(5*obspyr))], na.rm=T)/(Vpre*0.8)\n",
    "            if(is.infinite(R80P)){R80P <- NA}\n",
    "            # YrYR recovery index (~ related to slope)\n",
    "            YrYr <- (tsio[tdist+(5*obspyr)]-V0)/5\n",
    "            # make list of recovery indicators as output of the function\n",
    "            lst <- list(RRI, R80P, YrYr)\n",
    "            names(lst) <- c('RRI', 'R80P', 'YrYr')            \n",
    "        }else{\n",
    "            lst <- list(NA, NA, NA)\n",
    "            names(lst) <- c('RRI', 'R80P', 'YrYr')            \n",
    "        }        \n",
    "    }\n",
    "    lst\n",
    "}"
   ]
  },
  {
   "cell_type": "markdown",
   "metadata": {},
   "source": [
    "### 2.2 Post-disturbance slope and recovery metrics derived from BFAST0n trend segments\n",
    "*The calcBFASTrec function derives a set of recovery indicators after fitting a segmented trend in the time series. Using the breakpoints function of the strucchange package, a segmented trend is fitted (hereafter called BFAST0n trend segments). The detected break showing the largest change (in absolute values) is assumed to represent the disturbance. Using the segmented trend and detected disturbance date, the RRI, R80p, YrYr and the slope of the post-disturbance trend segment are derived as recovery indicators.*\n",
    "\n",
    "<font color=gray>__Function inputs__:\n",
    " - __tsio__: vector of observations (time series)\n",
    " - __obspyr__: number of observations in one year\n",
    " - __h__: This parameter defines the minimal segment size either given as fraction relative to the sample size or as an integer giving the minimal number of observations in each segment.\n",
    " - __shortDenseTS__: TRUE or FALSE. In case TRUE, the metrics are adjusted to be compatible with short, dense time series. In case FALSE, the input time series is assumed to have annual observations and at least 2 and 5 pre- and post-disturbance years, respectively. \n",
    " - __nPre__: If shortDenseTS is TRUE, number of years prior to the disturbance used to calculate the pre-disturbance value\n",
    " - __nDist__: If shortDenseTS is TRUE, number of months used to quantify the time series value during the disturbance\n",
    " - __nPostMin__: If shortDenseTS is TRUE, min number of years after the disturbance used to quantify the recovery\n",
    " - __nPostMax__: If shortDenseTS is TRUE, max number of years after the disturbance used to quantify the recovery\n",
    " </font>\n",
    " \n",
    " <font color=gray>__Function outputs__:\n",
    "    - __RRI__: RRI recovery indicator, derived from the BFAST0n trend segments\n",
    "    - __R80P__: R80p recovery indicator, derived from the BFAST0n trend segments\n",
    "    - __YrYr__: YrYr recovery indicator, derived from the BFAST0n trend segments\n",
    "    - __Sl__: slope of the trend segment after the disturbance\n",
    " </font>\n",
    " "
   ]
  },
  {
   "cell_type": "code",
   "execution_count": null,
   "metadata": {},
   "outputs": [],
   "source": [
    "calcBFASTrec <- function(tsio, obspyr, h, shortDenseTS, nPre, nDist, nPostMin, nPostMax){\n",
    "  # Create time series object, needed as input for BFAST\n",
    "  tsi <- ts(tsio, frequency = obspyr)\n",
    "  # Convert the time series object into a dataframe, needed for the breakpoints function\n",
    "    datapp <- bfastpp(tsi, order = 1, lag = NULL, slag = NULL,\n",
    "                  na.action = na.omit, stl = 'none')\n",
    "    # Apply BFAST0n on time series: find breaks in the regression\n",
    "    bp <- breakpoints(response ~ trend, data = datapp, h = h)##, breaks = nbrks\n",
    "    # Check if BFAST0n found breakpoints\n",
    "    if(is.na(bp$breakpoints[1])){# no breakpoint found\n",
    "        tr <- fitted(bp, 0)\n",
    "        sl <- (tr[2] - tr[1])\n",
    "        frz <- list(NA, NA, NA, sl)\n",
    "        names(frz) <- c('RRI', 'R80P', 'YrYr', 'Sl')\n",
    "    }else{# at least one breakpoint found\n",
    "        # Extract BFAST trend component and breaks\n",
    "        cf <- coef(bp)\n",
    "        # Extract BFAST trend component and breaks\n",
    "        tbp <- bp$breakpoints #observation number of break       \n",
    "        #tr <- rep(NA,length(tsi))\n",
    "        indna <- which(is.na(tsi)==F)\n",
    "        tbp <- indna[tbp]   # correct observation number for missing values              \n",
    "        #tr[is.na(tsi)==F] <- fitted(bptst, length(tbptst))\n",
    "        #Derive trend component without missing values        \n",
    "        bpf <- c(0, tbp, length(tsi))\n",
    "        trf <- rep(NA,length(tsi))                \n",
    "        for(ti in 1:(length(bpf)-1)){\n",
    "            trf[(bpf[ti]+1):bpf[ti+1]] <- cf[ti,1] + ((cf[ti,2]*((bpf[ti]+1):bpf[ti+1])))\n",
    "        }        \n",
    "        # Find the major break                  \n",
    "        dbr <- trf[tbp+1]-trf[tbp]\n",
    "        tbp <- tbp[which(abs(dbr) == max(abs(dbr)))]\n",
    "        # Calculate Frazier recovery metrics on BFAST trend component\n",
    "        frz <- calcFrazier(as.numeric(trf), (tbp+1), floor(obspyr), shortDenseTS, nPre, nDist, nPostMin, nPostMax)\n",
    "        # Calculate the post-disturbance slope of the BFAST trend component (first segment after break)\n",
    "        sl <- (trf[tbp+3] - trf[tbp+2])  \n",
    "        frz <- c(frz, sl)\n",
    "        names(frz) <- c('RRI', 'R80P', 'YrYr', 'Sl')\n",
    "    }    \n",
    "    frz\n",
    "}\n"
   ]
  }
 ],
 "metadata": {
  "kernelspec": {
   "display_name": "R",
   "language": "R",
   "name": "ir"
  },
  "language_info": {
   "codemirror_mode": "r",
   "file_extension": ".r",
   "mimetype": "text/x-r-source",
   "name": "R",
   "pygments_lexer": "r",
   "version": "3.6.1"
  }
 },
 "nbformat": 4,
 "nbformat_minor": 2
}
