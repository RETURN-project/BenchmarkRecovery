{
 "cells": [
  {
   "cell_type": "markdown",
   "metadata": {},
   "source": [
    "# Simulate time series"
   ]
  },
  {
   "cell_type": "markdown",
   "metadata": {},
   "source": [
    "## 1. Import libraries"
   ]
  },
  {
   "cell_type": "code",
   "execution_count": 1,
   "metadata": {},
   "outputs": [],
   "source": [
    "#library(gdata)"
   ]
  },
  {
   "cell_type": "markdown",
   "metadata": {},
   "source": [
    "## 2. Inputs"
   ]
  },
  {
   "cell_type": "code",
   "execution_count": 2,
   "metadata": {},
   "outputs": [],
   "source": [
    "ifolder <- '\\\\\\\\WURNET.NL\\\\Homes\\\\keers001\\\\My Documents\\\\RETURN\\\\20191019_SimulationOptSAR\\\\' # folder with data characteristics\n",
    "ofolder <- '\\\\\\\\WURNET.NL\\\\Homes\\\\keers001\\\\My Documents\\\\RETURN\\\\20191019_SimulationOptSAR\\\\' # folder where the simulated time series will be saved\n",
    "nfolder <- 'C:\\\\Users\\\\keers001\\\\Dropbox\\\\output\\\\Jupyter_notebook\\\\'\n",
    "\n",
    "basename <- c('LSTS_RndmSample_NoFire_5_Tree_80_scl_30_npnt_20000_VI')# base name of the data files\n",
    "pol <- 'VI'\n"
   ]
  },
  {
   "cell_type": "markdown",
   "metadata": {},
   "source": [
    "## 3. Import data"
   ]
  },
  {
   "cell_type": "code",
   "execution_count": 3,
   "metadata": {},
   "outputs": [
    {
     "data": {
      "text/html": [
       "0"
      ],
      "text/latex": [
       "0"
      ],
      "text/markdown": [
       "0"
      ],
      "text/plain": [
       "[1] 0"
      ]
     },
     "metadata": {},
     "output_type": "display_data"
    }
   ],
   "source": [
    "system(paste0('jupyter-nbconvert.exe ', nfolder, 'sim_Functions.ipynb  --to script'))#, intern=FALSE\n",
    "source(file.path(nfolder, 'sim_Functions.r'))\n",
    "sttngs <- loadRData(file = file.path(ifolder, paste0(basename, '_', pol,'_simTS_settings.rda')))\n",
    "  "
   ]
  },
  {
   "cell_type": "markdown",
   "metadata": {},
   "source": [
    "## 4. Simulate time series"
   ]
  },
  {
   "cell_type": "code",
   "execution_count": 4,
   "metadata": {},
   "outputs": [],
   "source": [
    "# iterate over the simulations (parameters that are evaluated)\n",
    "for(vr in 1:length(sttngs)){\n",
    "    simTS <- list()\n",
    "    simTSTr <- list()\n",
    "    simTSSeas <- list()\n",
    "    simTSRem <- list()\n",
    "    simTSDist <- list()\n",
    "    simTSParam <- list()\n",
    "    \n",
    "    setvr <- sttngs[[vr]]# settings of simulation\n",
    "    evr <- sttngs[[vr]]$var# name of parameter that will be evaluated in the simulation\n",
    "    \n",
    "    # iterate over values of evaluated parameter and simulate nrep time series\n",
    "    for (i in 1:length(setvr[[evr]])){\n",
    "        seti <- setvr\n",
    "        seti[[evr]] <- seti[[evr]][i] \n",
    "        \n",
    "        sc <- simulCase(seti$nrep, seti$nyr, seti$nobsYr, seti$nDr, seti$seasAv, seti$seasAmp, seti$trAv, seti$remSd,\n",
    "                        c(min(seti$distMag), max(seti$distMag)), seti$distT, c(min(seti$distRec), max(seti$distRec)),\n",
    "                        seti$remcoef, seti$missVal, seti$DistMissVal) \n",
    "            \n",
    "        simTS[[i]] <- sc[[1]]\n",
    "        simTSTr[[i]] <- sc[[2]]\n",
    "        simTSSeas[[i]] <- sc[[3]]\n",
    "        simTSRem[[i]] <- sc[[4]]\n",
    "        simTSDist[[i]] <- sc[[5]]\n",
    "        simTSParam[[i]] <- sc[[6]]\n",
    "        rm(sc)\n",
    "    }\n",
    "    \n",
    "  save(simTS, file = file.path(ofolder, paste0(basename, '_', pol, '_simTS_',evr,'.rda')))\n",
    "  save(simTSTr, file = file.path(ofolder, paste0(basename, '_', pol, '_simTSTr_',evr,'.rda')))\n",
    "  save(simTSSeas, file = file.path(ofolder, paste0(basename, '_', pol, '_simTSSeas_',evr,'.rda')))\n",
    "  save(simTSRem, file = file.path(ofolder, paste0(basename, '_', pol, '_simTSRem_',evr,'.rda')))\n",
    "  save(simTSDist, file = file.path(ofolder, paste0(basename, '_', pol, '_simTSDist_',evr,'.rda')))\n",
    "  save(simTSParam, file = file.path(ofolder, paste0(basename, '_', pol, '_simTSParam_',evr,'.rda')))\n",
    "  rm(simTS,simTSTr,simTSSeas, simTSRem, simTSDist, simTSParam)\n",
    "  }\n",
    "  \n",
    "  \n",
    "  "
   ]
  }
 ],
 "metadata": {
  "kernelspec": {
   "display_name": "R",
   "language": "R",
   "name": "ir"
  },
  "language_info": {
   "codemirror_mode": "r",
   "file_extension": ".r",
   "mimetype": "text/x-r-source",
   "name": "R",
   "pygments_lexer": "r",
   "version": "3.6.1"
  }
 },
 "nbformat": 4,
 "nbformat_minor": 2
}
