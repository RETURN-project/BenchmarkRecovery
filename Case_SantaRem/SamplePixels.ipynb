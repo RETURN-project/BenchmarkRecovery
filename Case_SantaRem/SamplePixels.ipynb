{
 "cells": [
  {
   "cell_type": "markdown",
   "metadata": {},
   "source": [
    "# Convert the recovery indicators to shapefile format "
   ]
  },
  {
   "cell_type": "markdown",
   "metadata": {},
   "source": [
    "## packages"
   ]
  },
  {
   "cell_type": "code",
   "execution_count": 1,
   "metadata": {},
   "outputs": [
    {
     "name": "stderr",
     "output_type": "stream",
     "text": [
      "Loading required package: sp\n",
      "rgdal: version: 1.4-7, (SVN revision 845)\n",
      " Geospatial Data Abstraction Library extensions to R successfully loaded\n",
      " Loaded GDAL runtime: GDAL 2.2.3, released 2017/11/20\n",
      " Path to GDAL shared files: C:/ProgramData/R/win-library/3.6/rgdal/gdal\n",
      " GDAL binary built with GEOS: TRUE \n",
      " Loaded PROJ.4 runtime: Rel. 4.9.3, 15 August 2016, [PJ_VERSION: 493]\n",
      " Path to PROJ.4 shared files: C:/ProgramData/R/win-library/3.6/rgdal/proj\n",
      " Linking to sp version: 1.3-1 \n"
     ]
    }
   ],
   "source": [
    "library(raster)\n",
    "library(rgdal)"
   ]
  },
  {
   "cell_type": "markdown",
   "metadata": {},
   "source": [
    "## inputs"
   ]
  },
  {
   "cell_type": "code",
   "execution_count": 4,
   "metadata": {},
   "outputs": [],
   "source": [
    "ifolder <- 'C:\\\\Users\\\\keers001\\\\OneDrive\\ -\\ WageningenUR\\\\RETURN\\\\Data\\\\RETURN\\\\20191019_SimulationOptSAR\\\\Case_SantaRem\\\\' # folder with input data\n",
    "ofolder <- 'C:\\\\Users\\\\keers001\\\\OneDrive\\ -\\ WageningenUR\\\\RETURN\\\\Data\\\\RETURN\\\\20191019_SimulationOptSAR\\\\Case_SantaRem\\\\' # output folder\n",
    "nfolder <- 'C:\\\\Users\\\\keers001\\\\Dropbox\\\\output\\\\Jupyter_notebook\\\\Functions\\\\'\n",
    "\n",
    "basename <- 'LSTS_FireArea_SantaRem_'\n",
    "nsamp <- 10000\n"
   ]
  },
  {
   "cell_type": "markdown",
   "metadata": {},
   "source": [
    "## sample points"
   ]
  },
  {
   "cell_type": "code",
   "execution_count": 6,
   "metadata": {},
   "outputs": [],
   "source": [
    "# dat <- st[is.na(sum(st))==F]\n",
    "fls <- list.files(ifolder, pattern = paste0(basename,'[[:digit:]]*.tif'), full=T)\n",
    "msk <- stack(fls)\n",
    "msktot <- sum(msk>0)\n",
    "\n",
    "sel  <- Which(msktot > 0, cells= T)\n",
    "if(length(sel)>0){\n",
    "    smp <- sample(length(sel),nsamp)\n",
    "    sel <- sel[smp]\n",
    "    shp <- xyFromCell(msktot,sel,spatial=T)\n",
    "    shapefile(shp,paste0(ifolder, basename, 'Han_smp_', nsamp),overwrite=T)\n",
    "}\n"
   ]
  },
  {
   "cell_type": "code",
   "execution_count": 7,
   "metadata": {},
   "outputs": [
    {
     "data": {
      "text/html": [
       "10000"
      ],
      "text/latex": [
       "10000"
      ],
      "text/markdown": [
       "10000"
      ],
      "text/plain": [
       "[1] 10000"
      ]
     },
     "metadata": {},
     "output_type": "display_data"
    }
   ],
   "source": []
  },
  {
   "cell_type": "code",
   "execution_count": null,
   "metadata": {},
   "outputs": [],
   "source": []
  }
 ],
 "metadata": {
  "kernelspec": {
   "display_name": "R",
   "language": "R",
   "name": "ir"
  },
  "language_info": {
   "codemirror_mode": "r",
   "file_extension": ".r",
   "mimetype": "text/x-r-source",
   "name": "R",
   "pygments_lexer": "r",
   "version": "3.6.1"
  }
 },
 "nbformat": 4,
 "nbformat_minor": 2
}
