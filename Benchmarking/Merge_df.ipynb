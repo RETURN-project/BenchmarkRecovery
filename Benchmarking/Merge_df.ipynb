{
 "cells": [
  {
   "cell_type": "markdown",
   "metadata": {},
   "source": [
    "# Combine dataframes "
   ]
  },
  {
   "cell_type": "markdown",
   "metadata": {},
   "source": [
    "## 1. inputs\n",
    "<font color=gray>Required user inputs:\n",
    "1. ifolder: directory of the input files to be merged\n",
    "2. ofolder: directory where the processed files will be stored\n",
    "3. nfolder: directory where the jupyter notebook files are stored\n",
    "3. basename: base name of the files to be merged</font>\n"
   ]
  },
  {
   "cell_type": "code",
   "execution_count": 1,
   "metadata": {},
   "outputs": [],
   "source": [
    "ifolder <- 'C:\\\\Users\\\\keers001\\\\Data\\\\RETURN\\\\20191019_SimulationOptSAR\\\\Landsat\\\\SampledData\\\\'\n",
    "ofolder <- 'C:\\\\Users\\\\keers001\\\\Data\\\\RETURN\\\\20191019_SimulationOptSAR\\\\Landsat\\\\SampledData\\\\'\n",
    "nfolder <- 'C:\\\\Users\\\\keers001\\\\Dropbox\\\\output\\\\Jupyter_notebook\\\\'\n",
    "\n",
    "basename <- c('LSTS_RndmSample','_NoFire_5_Tree_80_scl_30_npnt_20000_VI')\n"
   ]
  },
  {
   "cell_type": "markdown",
   "metadata": {},
   "source": [
    "## 2. Merge dataframes"
   ]
  },
  {
   "cell_type": "code",
   "execution_count": 2,
   "metadata": {},
   "outputs": [
    {
     "data": {
      "text/html": [
       "0"
      ],
      "text/latex": [
       "0"
      ],
      "text/markdown": [
       "0"
      ],
      "text/plain": [
       "[1] 0"
      ]
     },
     "metadata": {},
     "output_type": "display_data"
    },
    {
     "data": {
      "text/html": [
       "<ol class=list-inline>\n",
       "\t<li>1000</li>\n",
       "\t<li>6576</li>\n",
       "</ol>\n"
      ],
      "text/latex": [
       "\\begin{enumerate*}\n",
       "\\item 1000\n",
       "\\item 6576\n",
       "\\end{enumerate*}\n"
      ],
      "text/markdown": [
       "1. 1000\n",
       "2. 6576\n",
       "\n",
       "\n"
      ],
      "text/plain": [
       "[1] 1000 6576"
      ]
     },
     "metadata": {},
     "output_type": "display_data"
    }
   ],
   "source": [
    "system(paste0('jupyter-nbconvert.exe ', nfolder, 'sim_Functions.ipynb  --to script'))#, intern=FALSE\n",
    "source(file.path(nfolder, 'sim_Functions.r'))\n",
    "\n",
    "## Merge dfs VH \n",
    "dfVI <- loadRData(file.path(ifolder,  paste0(basename[1],'C',basename[2], '.rda')))\n",
    "tmp <- loadRData(file.path(ifolder,  paste0(basename[1],'D',basename[2], '.rda')))\n",
    "dfVI <- rbind(dfVI, tmp)\n",
    "rm(tmp)\n",
    "tmp <- loadRData(file.path(ifolder,  paste0(basename[1],'E',basename[2], '.rda')))\n",
    "dfVI <- rbind(dfVI, tmp)\n",
    "rm(tmp)\n",
    "tmp <- loadRData(file.path(ifolder,  paste0(basename[1],'F',basename[2], '.rda')))\n",
    "dfVI <- rbind(dfVI, tmp)\n",
    "rm(tmp)\n",
    "\n",
    "#save(dfVI, file = file.path(ofolder, paste0(basename[1],'tot',basename[2], '.rda')))\n",
    "dim(dfVI)"
   ]
  },
  {
   "cell_type": "markdown",
   "metadata": {},
   "source": [
    "## 3. Export results to Rdata file"
   ]
  },
  {
   "cell_type": "code",
   "execution_count": 3,
   "metadata": {},
   "outputs": [],
   "source": [
    "save(dfVI, file = file.path(ofolder, paste0(basename[1], basename[2], '.rda')))\n"
   ]
  }
 ],
 "metadata": {
  "kernelspec": {
   "display_name": "R",
   "language": "R",
   "name": "ir"
  },
  "language_info": {
   "codemirror_mode": "r",
   "file_extension": ".r",
   "mimetype": "text/x-r-source",
   "name": "R",
   "pygments_lexer": "r",
   "version": "3.6.1"
  }
 },
 "nbformat": 4,
 "nbformat_minor": 2
}
