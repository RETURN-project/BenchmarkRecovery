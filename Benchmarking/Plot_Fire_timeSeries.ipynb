{
 "cells": [
  {
   "cell_type": "markdown",
   "metadata": {},
   "source": [
    "# Compare (un)corrected VH backscatter and NBR time series"
   ]
  },
  {
   "cell_type": "code",
   "execution_count": 1,
   "metadata": {},
   "outputs": [
    {
     "name": "stderr",
     "output_type": "stream",
     "text": [
      "Loading required package: zoo\n",
      "\n",
      "Attaching package: 'zoo'\n",
      "\n",
      "The following objects are masked from 'package:base':\n",
      "\n",
      "    as.Date, as.Date.numeric\n",
      "\n",
      "Loading required package: sandwich\n",
      "Registered S3 method overwritten by 'xts':\n",
      "  method     from\n",
      "  as.zoo.xts zoo \n",
      "Registered S3 method overwritten by 'quantmod':\n",
      "  method            from\n",
      "  as.zoo.data.frame zoo \n",
      "Registered S3 methods overwritten by 'forecast':\n",
      "  method             from    \n",
      "  fitted.fracdiff    fracdiff\n",
      "  residuals.fracdiff fracdiff\n",
      "Loading required package: sp\n"
     ]
    }
   ],
   "source": [
    "library(strucchange)\n",
    "library(bfast)\n",
    "library(zoo)\n",
    "library(gdalUtils)\n",
    "library(raster)\n",
    "\n",
    "\n",
    "ifolder <- 'C:\\\\Users\\\\keers001\\\\OneDrive\\ -\\ WageningenUR\\\\RETURN\\\\Data\\\\RETURN\\\\20191019_SimulationOptSAR\\\\Fire\\\\'\n",
    "figfolder <- 'C:\\\\Users\\\\keers001\\\\OneDrive\\ -\\ WageningenUR\\\\RETURN\\\\Data\\\\RETURN\\\\20191019_SimulationOptSAR\\\\Fire\\\\Figures\\\\'\n",
    "crds <- read.csv(file.path(ifolder, 'coor.csv'), header=F)\n",
    "#crds"
   ]
  },
  {
   "cell_type": "code",
   "execution_count": 23,
   "metadata": {},
   "outputs": [],
   "source": [
    "# add harmonic part?\n",
    "S1_h <- 0.05\n",
    "\n",
    "for (i in 11:17){\n",
    "\n",
    "crdi <- c(crds$V2[i],crds$V3[i])\n",
    "\n",
    "#---------------------\n",
    "# uncorrected S1 VH data\n",
    "vh <- read.csv(file.path(ifolder, paste0('ee-chart_',i,'_VH.csv')))\n",
    "dtsvh <- as.Date(vh$system.time_start, format='%b %d, %Y')\n",
    "tsvh <- vh$VH\n",
    "tsvh <- tsvh[dtsvh>as.Date('2016-05-01')]\n",
    "dtsvh <- dtsvh[dtsvh>as.Date('2016-05-01')]\n",
    "\n",
    "#---------------------\n",
    "# uncorrected S1 VV data\n",
    "vv <- read.csv(file.path(ifolder, paste0('ee-chart_',i,'_VV.csv')))\n",
    "dtsvv <- as.Date(vv$system.time_start, format='%b %d, %Y')\n",
    "tsvv <- vv$VV\n",
    "tsvv <- tsvv[dtsvv>as.Date('2016-05-01')]\n",
    "dtsvv <- dtsvv[dtsvv>as.Date('2016-05-01')]\n",
    "\n",
    "\n",
    "#---------------------\n",
    "# corrected S1 VH data\n",
    "vhc <- brick(file.path(ifolder, paste0('S1_VH_stack_',i,'.tif')))\n",
    "sp = SpatialPoints(cbind(crds$V2[i],crds$V3[i]))\n",
    "\n",
    "proj4string(sp) = CRS(\"+init=epsg:4326\")\n",
    "SPtrans = spTransform(sp, crs(vhc))\n",
    "met <- gdalinfo(file.path(ifolder,paste0('S1_VH_stack_',i,'.tif')))\n",
    "ind <- grep( ' Description = ', met)\n",
    "mp <- strsplit(gsub(' Description = ', '', met[ind]), '_')\n",
    "dts <- sapply(strsplit(sapply(mp, `[`, 6),'T'), `[`, 1)\n",
    "dts <- as.Date(dts,format = '%Y%m%d')\n",
    "tsc <- extract(vhc, SPtrans, method='simple', buffer=NULL, small=FALSE, cellnumbers=FALSE, \n",
    "                     fun=NULL, na.rm=TRUE,1, df=FALSE, factors=FALSE)\n",
    "tsc <- tsc[dts>as.Date('2016-05-01')]\n",
    "dts <- dts[dts>as.Date('2016-05-01')]\n",
    "tsco  <- bfastts(tsc[is.na(tsc)==F],dts[is.na(tsc)==F], type='irregular')     \n",
    "\n",
    "#---------------------\n",
    "# corrected S1 VV data\n",
    "vvc <- brick(file.path(ifolder, paste0('S1_VV_stack_',i,'.tif')))\n",
    "metvvc <- gdalinfo(file.path(ifolder,paste0('S1_VV_stack_',i,'.tif')))\n",
    "indvvc <- grep( ' Description = ', metvvc)\n",
    "mpvvc <- strsplit(gsub(' Description = ', '', metvvc[ind]), '_')\n",
    "dtsvvc <- sapply(strsplit(sapply(mpvvc, `[`, 6),'T'), `[`, 1)\n",
    "dtsvvc <- as.Date(dtsvvc,format = '%Y%m%d')\n",
    "tsvvc <- extract(vvc, SPtrans, method='simple', buffer=NULL, small=FALSE, cellnumbers=FALSE, \n",
    "                     fun=NULL, na.rm=TRUE,1, df=FALSE, factors=FALSE)\n",
    "tsvvc <- tsvvc[dtsvvc>as.Date('2016-05-01')]\n",
    "dtsvvc <- dtsvvc[dtsvvc>as.Date('2016-05-01')]\n",
    "tscovvc  <- bfastts(tsvvc[is.na(tsvvc)==F],dts[is.na(tsvvc)==F], type='irregular')     \n",
    "\n",
    "#---------------------\n",
    "# multitemporal corrected S1 VH data\n",
    "vhcm <- brick(file.path(ifolder, paste0('S1_VH_stack_',i,'_multi.tif')))\n",
    "\n",
    "metm <- gdalinfo(file.path(ifolder,paste0('S1_VH_stack_',i,'_multi.tif')))\n",
    "indm <- grep( ' Description = ', metm)\n",
    "mpm <- strsplit(gsub(' Description = ', '', metm[indm]), '_')\n",
    "dtsm <- sapply(strsplit(sapply(mpm, `[`, 6),'T'), `[`, 1)\n",
    "dtsm <- as.Date(dtsm,format = '%Y%m%d')\n",
    "tscm <- extract(vhcm, SPtrans, method='simple', buffer=NULL, small=FALSE, cellnumbers=FALSE, \n",
    "                     fun=NULL, na.rm=TRUE,1, df=FALSE, factors=FALSE)\n",
    "tscm <- tscm[dtsm>as.Date('2016-05-01')]\n",
    "dtsm<- dtsm[dtsm>as.Date('2016-05-01')]\n",
    "tscom  <- bfastts(tscm[is.na(tscm)==F],dtsm[is.na(tscm)==F], type='irregular')     \n",
    "\n",
    "#---------------------\n",
    "# multitemporal corrected S1 VV data\n",
    "vvcm <- brick(file.path(ifolder, paste0('S1_VV_stack_',i,'_multi.tif')))\n",
    "\n",
    "metvvm <- gdalinfo(file.path(ifolder,paste0('S1_VV_stack_',i,'_multi.tif')))\n",
    "indvvm <- grep( ' Description = ', metvvm)\n",
    "mpvvm <- strsplit(gsub(' Description = ', '', metvvm[indvvm]), '_')\n",
    "dtsvvm <- sapply(strsplit(sapply(mpvvm, `[`, 6),'T'), `[`, 1)\n",
    "dtsvvm <- as.Date(dtsvvm,format = '%Y%m%d')\n",
    "tscvvm <- extract(vvcm, SPtrans, method='simple', buffer=NULL, small=FALSE, cellnumbers=FALSE, \n",
    "                     fun=NULL, na.rm=TRUE,1, df=FALSE, factors=FALSE)\n",
    "tscvvm <- tscvvm[dtsvvm>as.Date('2016-05-01')]\n",
    "dtsvvm<- dtsvvm[dtsvvm>as.Date('2016-05-01')]\n",
    "tscovvm  <- bfastts(tscvvm[is.na(tscvvm)==F],dtsvvm[is.na(tscvvm)==F], type='irregular')     \n",
    "\n",
    "#---------------------\n",
    "# sementation uncorrected vh data\n",
    "tsi <- bfastts(tsvh[is.na(tsvh)==F],dtsvh[is.na(tsvh)==F], type='irregular')\n",
    "datapp <- bfastpp(tsi, order = 1, lag = NULL, slag = NULL,\n",
    "                 na.action = na.omit, stl = 'none')\n",
    "bp <- breakpoints(response ~ trend, data = datapp, h = S1_h)##, breaks = nbrks\n",
    "\n",
    "#---------------------\n",
    "# sementation uncorrected vv data\n",
    "tsvvi <- bfastts(tsvv[is.na(tsvv)==F],dtsvv[is.na(tsvv)==F], type='irregular')\n",
    "datappvv <- bfastpp(tsvvi, order = 1, lag = NULL, slag = NULL,\n",
    "                 na.action = na.omit, stl = 'none')\n",
    "bpvv <- breakpoints(response ~ trend, data = datappvv, h = S1_h)##, breaks = nbrks\n",
    "\n",
    "#---------------------\n",
    "# sementation corrected vh data\n",
    "datappc <- bfastpp(tsco, order = 1, lag = NULL, slag = NULL,\n",
    "                 na.action = na.omit, stl = 'none')\n",
    "bpc <- breakpoints(response ~ trend, data = datappc, h = S1_h)##, breaks = nbrks\n",
    "# sementation corrected vv data\n",
    "datappcvv <- bfastpp(tscovvc, order = 1, lag = NULL, slag = NULL,\n",
    "                 na.action = na.omit, stl = 'none')\n",
    "bpcvv <- breakpoints(response ~ trend, data = datappcvv, h = S1_h)##, breaks = nbrks\n",
    "\n",
    "# sementation corrected multitemporal vh data\n",
    "datappcm <- bfastpp(tscom, order = 1, lag = NULL, slag = NULL,\n",
    "                 na.action = na.omit, stl = 'none')\n",
    "bpcm <- breakpoints(response ~ trend, data = datappcm, h = S1_h)##, breaks = nbrks\n",
    "\n",
    "# sementation corrected multitemporal vv data\n",
    "datappcvvm <- bfastpp(tscovvm, order = 1, lag = NULL, slag = NULL,\n",
    "                 na.action = na.omit, stl = 'none')\n",
    "bpcvvm <- breakpoints(response ~ trend, data = datappcvvm, h = S1_h)##, breaks = nbrks\n",
    "\n",
    "# ----------------------\n",
    "# prepare fire data\n",
    "fire <- read.csv(file.path(ifolder, paste0('ee-chart_',i,'_doy.csv')))\n",
    "fireconf <- read.csv(file.path(ifolder, paste0('ee-chart_',i,'_conf.csv')))\n",
    "dtsfire <- as.Date(fire$system.time_start, format='%b %d, %Y')\n",
    "fire <- as.numeric(fire$b1)\n",
    "fireconf <- as.numeric(fireconf$b1)\n",
    "doy <- fire[fireconf>95]\n",
    "fireyr <- as.numeric(format(dtsfire[fireconf>95],'%Y'))\n",
    "firedate <- as.Date(paste0(format(dtsfire[fireconf>95],'%Y'),'-',doy),'%Y-%j')\n",
    "\n",
    "#---------------------\n",
    "# create zoo time series objects\n",
    "tsz <- as.zoo(tsi)\n",
    "tszvv <- as.zoo(tsvvi)\n",
    "tscz <- as.zoo(tsco)\n",
    "tsczvv <- as.zoo(tscovvc)\n",
    "tsczm <- as.zoo(tscom)\n",
    "tsczvvm <- as.zoo(tscovvm)\n",
    "#m.av<-rollmean(tsz[is.na(tsz)==F], 7,fill = list(NA,NA,NA, NULL, NA,NA,NA))\n",
    "tsbp<-zoo(bfastts(as.numeric(fitted(bp)),sort(dtsvh[is.na(tsvh)==F]), type='irregular'))\n",
    "tsbpvv<-zoo(bfastts(as.numeric(fitted(bpvv)),sort(dtsvv[is.na(tsvv)==F]), type='irregular'))\n",
    "tsbpc<-zoo(bfastts(as.numeric(fitted(bpc)),sort(dts[is.na(tsc)==F]), type='irregular'))\n",
    "tsbpcvv<-zoo(bfastts(as.numeric(fitted(bpcvv)),sort(dtsvvc[is.na(tsvvc)==F]), type='irregular'))\n",
    "tsbpcm<-zoo(bfastts(as.numeric(fitted(bpcm)),sort(dtsm[is.na(tscm)==F]), type='irregular'))\n",
    "tsbpcvvm<-zoo(bfastts(as.numeric(fitted(bpcvvm)),sort(dtsvvm[is.na(tscvvm)==F]), type='irregular'))\n",
    "\n",
    "#---------------------\n",
    "# plot - compare uncorrected and corrected backscatter\n",
    "cexi <- 2\n",
    "png(filename = file.path(figfolder,paste0(\"CompCorr_\", i, \".png\")),\n",
    "    width = 1000, height = 800, units = \"px\")\n",
    "par(mar = c(5, 5, 4, 2) + 0.1)\n",
    "plot(tsz[is.na(tsz)==F], \n",
    "     xlab = 'Time', ylab = 'VH backscatter [dB]', main = paste0('Lon ', crdi[1], ', Lat ', crdi[2]),\n",
    "    col='darkseagreen2', lw=2,#, xaxt = \"n\"\n",
    "    cex.lab=cexi, cex.axis=cexi, cex.main=cexi, cex.sub=cexi)\n",
    "#lines(m.av, col='red', lw=2)\n",
    "lines(tscz[is.na(tscz)==F], col='darkgoldenrod1', lw=2)\n",
    "lines(tsczm[is.na(tsczm)==F], col='brown1', lw=2)\n",
    "lines(tsbp[is.na(tsbp)==F], col='darkcyan', lw=3)\n",
    "lines(tsbpc[is.na(tsbpc)==F], col='darkgoldenrod3', lw=3)\n",
    "lines(tsbpcm[is.na(tsbpcm)==F], col='brown3', lw=3)\n",
    "abline(v=fireyr+doy/366, col = 'gray', lw=3, lty=5)\n",
    "legend('topright', c('Before correction', 'Lee correction','Multi Lee corr'),#,'Segment before corr','Segment Lee corr', 'Segment multi corr'\n",
    "        col=c(\"darkseagreen2\", \"darkgoldenrod1\",'brown1'),   #, \"darkcyan\", \"darkgoldenrod3\",'brown3'\n",
    "        lty=c(1,1, 1),\n",
    "      lwd = c(2,2,2),\n",
    "      cex = cexi)\n",
    "#axis(1, aat = dtsvh[is.na(tsvh)==F], format(dtsvh[is.na(tsvh)==F], \"%Y\"), cex.axis = .7)\n",
    "dev.off()\n",
    "\n",
    "#---------------------\n",
    "# plot - compare uncorrected and corrected backscatter vv\n",
    "cexi <- 2\n",
    "png(filename = file.path(figfolder,paste0(\"CompCorrVV_\", i, \".png\")),\n",
    "    width = 1000, height = 800, units = \"px\")\n",
    "par(mar = c(5, 5, 4, 2) + 0.1)\n",
    "plot(tszvv[is.na(tszvv)==F], \n",
    "     xlab = 'Time', ylab = 'VV backscatter [dB]', main = paste0('Lon ', crdi[1], ', Lat ', crdi[2]),\n",
    "    col='darkseagreen2', lw=2,\n",
    "    cex.lab=cexi, cex.axis=cexi, cex.main=cexi, cex.sub=cexi)\n",
    "#lines(m.av, col='red', lw=2)\n",
    "lines(tsczvv[is.na(tsczvv)==F], col='darkgoldenrod1', lw=2)\n",
    "lines(tsczvvm[is.na(tsczvvm)==F], col='brown1', lw=2)\n",
    "lines(tsbpvv[is.na(tsbpvv)==F], col='darkcyan', lw=3)\n",
    "lines(tsbpcvv[is.na(tsbpcvv)==F], col='darkgoldenrod3', lw=3)\n",
    "lines(tsbpcvvm[is.na(tsbpcvvm)==F], col='brown3', lw=3)\n",
    "abline(v=fireyr+doy/366, col = 'gray', lw=3, lty=5)\n",
    "legend('topright', c('Before correction', 'Lee correction','Multi Lee corr'),#,'Segment before corr','Segment Lee corr', 'Segment multi corr'\n",
    "        col=c(\"darkseagreen2\", \"darkgoldenrod1\",'brown1'),   #, \"darkcyan\", \"darkgoldenrod3\",'brown3'\n",
    "        lty=c(1,1, 1),\n",
    "      lwd = c(2,2,2),\n",
    "      cex = cexi)\n",
    "dev.off()\n",
    "\n",
    "#---------------------\n",
    "# nbr data\n",
    "nbr <- read.csv(file.path(ifolder, paste0('ee-chart_',i,'_nbr.csv')))\n",
    "dtsnbr <- as.Date(nbr$system.time_start, format='%b %d, %Y')\n",
    "nbrun <- as.numeric(nbr$NBR[!duplicated(dtsnbr)])\n",
    "dtsnbrun <- dtsnbr[!duplicated(dtsnbr)]\n",
    "tsnbr <- zoo(bfastts(nbrun,dtsnbrun, type='irregular'))\n",
    "\n",
    "#---------------------\n",
    "# sementation optical data\n",
    "datappnbr <- bfastpp(bfastts(nbrun,dtsnbrun, type='irregular'), order = 1, lag = NULL, slag = NULL,\n",
    "                 na.action = na.omit, stl = 'none')\n",
    "bpnbr <- breakpoints(response ~ trend , data = datappnbr, h = 0.05)##, breaks = nbrks\n",
    "tsbpnbr<-zoo(bfastts(as.numeric(fitted(bpnbr)),sort(dtsnbrun[is.na(nbrun)==F]), type='irregular'))\n",
    "\n",
    "#---------------------\n",
    "# plot - compare optical and radar data\n",
    "cexi <- 3\n",
    "png(filename = file.path(figfolder,paste0(\"CompOpt_\", i, \".png\")),\n",
    "    width = 1200, height = 1000, units = \"px\")\n",
    "par(mfrow=c(3, 1),\n",
    "          oma = c(6,4,0,0) + 0.1,\n",
    "          mar = c(1, 3, 4, 2) + 0.1, mgp = c(5, 2, 0), xpd = NA)    \n",
    "plot(tsczm[is.na(tsczm)==F],#vhzoo\n",
    "     xlim =c(min(as.numeric(format(dtsm, '%Y')), as.numeric(format(dtsnbr, '%Y'))), 1+max(as.numeric(format(dtsm, '%Y')), as.numeric(format(dtsnbr, '%Y')))), \n",
    "     xlab = '', ylab = 'VH backscatter [dB]', main = paste0('Lon ', crdi[1], ', Lat ', crdi[2]), col='brown1',\n",
    "     xaxt='n',lwd = 3,\n",
    "    cex.lab=cexi, cex.axis=cexi, cex.main=cexi, cex.sub=cexi)\n",
    "lines(tsbpcm[is.na(tsbpcm)==F], col='brown3', lw=4)\n",
    "abline(v=fireyr+doy/366, col = 'gray', lw=3, lty=5)\n",
    "\n",
    "plot(tsczvvm[is.na(tsczvvm)==F],#vhzoo\n",
    "     xlim =c(min(as.numeric(format(dtsvvm, '%Y')), as.numeric(format(dtsnbr, '%Y'))), 1+max(as.numeric(format(dtsvvm, '%Y')), as.numeric(format(dtsnbr, '%Y')))), \n",
    "     xlab = '', ylab = 'VV backscatter [dB]', col='brown1',\n",
    "     xaxt='n',lwd = 3,\n",
    "    cex.lab=cexi, cex.axis=cexi, cex.main=cexi, cex.sub=cexi)\n",
    "lines(tsbpcvvm[is.na(tsbpcvvm)==F], col='brown3', lw=4)\n",
    "abline(v=fireyr+doy/366, col = 'gray', lw=3, lty=5)\n",
    "\n",
    "plot(tsnbr[is.na(tsnbr)==F], col='black', type = 'o',#vhzoo\n",
    "     xlim =c(min(as.numeric(format(dts, '%Y')), as.numeric(format(dtsnbr, '%Y'))), 1+max(as.numeric(format(dts, '%Y')), as.numeric(format(dtsnbr, '%Y')))), \n",
    "     ylim = c(min(tsbpnbr[is.na(tsbpnbr)==F],tsnbr[is.na(tsnbr)==F]),max(tsbpnbr[is.na(tsbpnbr)==F],tsnbr[is.na(tsnbr)==F])),\n",
    "     xlab = 'Time', ylab = 'NBR [-]', lwd = 3,\n",
    "    cex.lab=cexi, cex.axis=cexi, cex.main=cexi, cex.sub=cexi)\n",
    "lines(tsbpnbr[is.na(tsbpnbr)==F], col='gray', lw=4)\n",
    "abline(v=fireyr+doy/366, col = 'gray', lw=3, lty=5)\n",
    "dev.off()\n",
    "}"
   ]
  },
  {
   "cell_type": "code",
   "execution_count": 51,
   "metadata": {},
   "outputs": [
    {
     "data": {
      "text/html": [
       "241"
      ],
      "text/latex": [
       "241"
      ],
      "text/markdown": [
       "241"
      ],
      "text/plain": [
       "[1] 241"
      ]
     },
     "metadata": {},
     "output_type": "display_data"
    },
    {
     "data": {
      "text/html": [
       "2018"
      ],
      "text/latex": [
       "2018"
      ],
      "text/markdown": [
       "2018"
      ],
      "text/plain": [
       "[1] 2018"
      ]
     },
     "metadata": {},
     "output_type": "display_data"
    }
   ],
   "source": [
    "doy\n",
    "fireyr"
   ]
  },
  {
   "cell_type": "code",
   "execution_count": 19,
   "metadata": {},
   "outputs": [
    {
     "data": {
      "text/html": [
       "<table>\n",
       "<caption>A data.frame: 6 × 5</caption>\n",
       "<thead>\n",
       "\t<tr><th></th><th scope=col>time</th><th scope=col>response</th><th scope=col>trend</th><th scope=col>season</th><th scope=col>harmon</th></tr>\n",
       "\t<tr><th></th><th scope=col>&lt;dbl&gt;</th><th scope=col>&lt;dbl&gt;</th><th scope=col>&lt;int&gt;</th><th scope=col>&lt;fct&gt;</th><th scope=col>&lt;dbl[,2]&gt;</th></tr>\n",
       "</thead>\n",
       "<tbody>\n",
       "\t<tr><th scope=row>1</th><td>2017.403</td><td>-11.566</td><td> 1</td><td>148</td><td>-0.8190149,  0.573772268</td></tr>\n",
       "\t<tr><th scope=row>13</th><td>2017.436</td><td>-13.976</td><td>13</td><td>160</td><td>-0.9192860,  0.393590277</td></tr>\n",
       "\t<tr><th scope=row>25</th><td>2017.468</td><td>-17.175</td><td>25</td><td>172</td><td>-0.9804692,  0.196672890</td></tr>\n",
       "\t<tr><th scope=row>37</th><td>2017.501</td><td> -8.386</td><td>37</td><td>184</td><td>-0.9999630, -0.008606997</td></tr>\n",
       "\t<tr><th scope=row>49</th><td>2017.534</td><td>-12.932</td><td>49</td><td>196</td><td>-0.9769385, -0.213520915</td></tr>\n",
       "\t<tr><th scope=row>61</th><td>2017.567</td><td>-13.921</td><td>61</td><td>208</td><td>-0.9123748, -0.409355959</td></tr>\n",
       "</tbody>\n",
       "</table>\n"
      ],
      "text/latex": [
       "A data.frame: 6 × 5\n",
       "\\begin{tabular}{r|lllll}\n",
       "  & time & response & trend & season & harmon\\\\\n",
       "  & <dbl> & <dbl> & <int> & <fct> & <dbl{[},2{]}>\\\\\n",
       "\\hline\n",
       "\t1 & 2017.403 & -11.566 &  1 & 148 & -0.8190149,  0.573772268\\\\\n",
       "\t13 & 2017.436 & -13.976 & 13 & 160 & -0.9192860,  0.393590277\\\\\n",
       "\t25 & 2017.468 & -17.175 & 25 & 172 & -0.9804692,  0.196672890\\\\\n",
       "\t37 & 2017.501 &  -8.386 & 37 & 184 & -0.9999630, -0.008606997\\\\\n",
       "\t49 & 2017.534 & -12.932 & 49 & 196 & -0.9769385, -0.213520915\\\\\n",
       "\t61 & 2017.567 & -13.921 & 61 & 208 & -0.9123748, -0.409355959\\\\\n",
       "\\end{tabular}\n"
      ],
      "text/markdown": [
       "\n",
       "A data.frame: 6 × 5\n",
       "\n",
       "| <!--/--> | time &lt;dbl&gt; | response &lt;dbl&gt; | trend &lt;int&gt; | season &lt;fct&gt; | harmon &lt;dbl[,2]&gt; |\n",
       "|---|---|---|---|---|---|\n",
       "| 1 | 2017.403 | -11.566 |  1 | 148 | -0.8190149,  0.573772268 |\n",
       "| 13 | 2017.436 | -13.976 | 13 | 160 | -0.9192860,  0.393590277 |\n",
       "| 25 | 2017.468 | -17.175 | 25 | 172 | -0.9804692,  0.196672890 |\n",
       "| 37 | 2017.501 |  -8.386 | 37 | 184 | -0.9999630, -0.008606997 |\n",
       "| 49 | 2017.534 | -12.932 | 49 | 196 | -0.9769385, -0.213520915 |\n",
       "| 61 | 2017.567 | -13.921 | 61 | 208 | -0.9123748, -0.409355959 |\n",
       "\n"
      ],
      "text/plain": [
       "   time     response trend season harmon                  \n",
       "1  2017.403 -11.566   1    148    -0.8190149,  0.573772268\n",
       "13 2017.436 -13.976  13    160    -0.9192860,  0.393590277\n",
       "25 2017.468 -17.175  25    172    -0.9804692,  0.196672890\n",
       "37 2017.501  -8.386  37    184    -0.9999630, -0.008606997\n",
       "49 2017.534 -12.932  49    196    -0.9769385, -0.213520915\n",
       "61 2017.567 -13.921  61    208    -0.9123748, -0.409355959"
      ]
     },
     "metadata": {},
     "output_type": "display_data"
    }
   ],
   "source": [
    "head(datapp)"
   ]
  },
  {
   "cell_type": "code",
   "execution_count": 70,
   "metadata": {},
   "outputs": [
    {
     "data": {
      "text/html": [
       "<table>\n",
       "<caption>A matrix: 2 × 4 of type dbl</caption>\n",
       "<thead>\n",
       "\t<tr><th></th><th scope=col>(Intercept)</th><th scope=col>trend</th><th scope=col>harmoncos</th><th scope=col>harmonsin</th></tr>\n",
       "</thead>\n",
       "<tbody>\n",
       "\t<tr><th scope=row>0.0151515151515152 - 0.454545454545455</th><td>-11.65545</td><td>-0.023700337</td><td> 0.6719442</td><td>-0.9142534</td></tr>\n",
       "\t<tr><th scope=row>0.46969696969697 - 1</th><td>-18.51578</td><td> 0.003089972</td><td>-0.6311545</td><td> 0.6484076</td></tr>\n",
       "</tbody>\n",
       "</table>\n"
      ],
      "text/latex": [
       "A matrix: 2 × 4 of type dbl\n",
       "\\begin{tabular}{r|llll}\n",
       "  & (Intercept) & trend & harmoncos & harmonsin\\\\\n",
       "\\hline\n",
       "\t0.0151515151515152 - 0.454545454545455 & -11.65545 & -0.023700337 &  0.6719442 & -0.9142534\\\\\n",
       "\t0.46969696969697 - 1 & -18.51578 &  0.003089972 & -0.6311545 &  0.6484076\\\\\n",
       "\\end{tabular}\n"
      ],
      "text/markdown": [
       "\n",
       "A matrix: 2 × 4 of type dbl\n",
       "\n",
       "| <!--/--> | (Intercept) | trend | harmoncos | harmonsin |\n",
       "|---|---|---|---|---|\n",
       "| 0.0151515151515152 - 0.454545454545455 | -11.65545 | -0.023700337 |  0.6719442 | -0.9142534 |\n",
       "| 0.46969696969697 - 1 | -18.51578 |  0.003089972 | -0.6311545 |  0.6484076 |\n",
       "\n"
      ],
      "text/plain": [
       "                                       (Intercept) trend        harmoncos \n",
       "0.0151515151515152 - 0.454545454545455 -11.65545   -0.023700337  0.6719442\n",
       "0.46969696969697 - 1                   -18.51578    0.003089972 -0.6311545\n",
       "                                       harmonsin \n",
       "0.0151515151515152 - 0.454545454545455 -0.9142534\n",
       "0.46969696969697 - 1                    0.6484076"
      ]
     },
     "metadata": {},
     "output_type": "display_data"
    }
   ],
   "source": [
    "coef(bp)\n"
   ]
  },
  {
   "cell_type": "code",
   "execution_count": 22,
   "metadata": {},
   "outputs": [
    {
     "data": {
      "text/plain": [
       "2017(148) 2017(160) 2017(172) 2017(184) 2017(196) 2017(208) 2017(220) 2017(232) \n",
       "  -11.566   -13.976   -17.175    -8.386   -12.932   -13.921   -14.348   -14.476 \n",
       "2017(244) 2017(268) 2017(280) 2017(292) 2017(304) 2017(316) 2017(328) 2017(340) \n",
       "  -12.843   -13.982   -12.907   -14.179   -15.626   -13.204   -12.507   -14.291 \n",
       "2017(352) 2017(364)  2018(11)  2018(23)  2018(35)  2018(47)  2018(59)  2018(71) \n",
       "  -16.898   -16.195   -18.809   -17.313   -16.233   -21.331   -16.807   -23.726 \n",
       " 2018(83)  2018(95) 2018(107) 2018(119) 2018(131) 2018(143) 2018(155) 2018(167) \n",
       "  -15.253   -19.488   -15.729   -23.152   -19.946   -24.154   -15.620   -14.906 \n",
       "2018(179) 2018(311) 2018(323) 2018(335) 2018(347) 2018(359)   2019(6)  2019(18) \n",
       "  -18.685   -17.961   -16.744   -20.892   -14.379   -17.633   -15.177   -18.052 \n",
       " 2019(30)  2019(42)  2019(54)  2019(66)  2019(78)  2019(90) 2019(102) 2019(114) \n",
       "  -18.272   -17.526   -14.723   -18.089   -17.792   -18.148   -14.920   -13.618 \n",
       "2019(126) 2019(138) 2019(150) 2019(162) 2019(174) 2019(186) 2019(198) 2019(210) \n",
       "  -13.766   -16.232   -13.650   -13.559   -15.509   -16.828   -14.289   -18.638 \n",
       "2019(222) 2019(234) 2019(246) 2019(258) 2019(270) 2019(282) 2019(294) 2019(306) \n",
       "  -17.419   -16.095   -18.163   -14.510   -16.370   -16.963   -15.401   -16.099 \n",
       "2019(318) 2019(330) \n",
       "  -15.321   -17.515 "
      ]
     },
     "metadata": {},
     "output_type": "display_data"
    },
    {
     "data": {
      "image/png": "[encoded data removed]",
      "text/plain": [
       "Plot with title \"\""
      ]
     },
     "metadata": {},
     "output_type": "display_data"
    }
   ],
   "source": [
    "plot(tsz[is.na(tsz)==F], xlim=c(2016.5,2020))\n",
    "#lines(m.av, col='red', lw=2)\n",
    "tsz[is.na(tsz)==F]"
   ]
  },
  {
   "cell_type": "code",
   "execution_count": null,
   "metadata": {},
   "outputs": [],
   "source": []
  },
  {
   "cell_type": "code",
   "execution_count": null,
   "metadata": {},
   "outputs": [],
   "source": []
  }
 ],
 "metadata": {
  "kernelspec": {
   "display_name": "R",
   "language": "R",
   "name": "ir"
  },
  "language_info": {
   "codemirror_mode": "r",
   "file_extension": ".r",
   "mimetype": "text/x-r-source",
   "name": "R",
   "pygments_lexer": "r",
   "version": "3.6.1"
  }
 },
 "nbformat": 4,
 "nbformat_minor": 2
}
