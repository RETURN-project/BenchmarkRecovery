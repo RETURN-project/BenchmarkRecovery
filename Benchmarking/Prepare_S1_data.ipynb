{
 "cells": [
  {
   "cell_type": "markdown",
   "metadata": {},
   "source": [
    "# Prepare Sentinel-1 data obtained via GEE"
   ]
  },
  {
   "cell_type": "markdown",
   "metadata": {},
   "source": [
    "## Libraries"
   ]
  },
  {
   "cell_type": "code",
   "execution_count": 1,
   "metadata": {},
   "outputs": [
    {
     "name": "stderr",
     "output_type": "stream",
     "text": [
      "Loading required package: sp\n"
     ]
    }
   ],
   "source": [
    "#install.packages('gdalUtils')\n",
    "library(gdalUtils)\n",
    "library(raster)\n"
   ]
  },
  {
   "cell_type": "markdown",
   "metadata": {},
   "source": [
    "## Inputs"
   ]
  },
  {
   "cell_type": "code",
   "execution_count": 2,
   "metadata": {},
   "outputs": [],
   "source": [
    "ifolder <- 'C:\\\\Users\\\\keers001\\\\OneDrive\\ -\\ WageningenUR\\\\RETURN\\\\Data\\\\RETURN\\\\20191019_SimulationOptSAR\\\\S1\\\\SampledData\\\\'\n",
    "ofolder <- 'C:\\\\Users\\\\keers001\\\\OneDrive\\ -\\ WageningenUR\\\\RETURN\\\\Data\\\\RETURN\\\\20191019_SimulationOptSAR\\\\S1\\\\SampledData\\\\'\n",
    "sfolder <- 'C:\\\\Users\\\\keers001\\\\OneDrive\\ -\\ WageningenUR\\\\RETURN\\\\Data\\\\RETURN\\\\20191019_SimulationOptSAR\\\\'"
   ]
  },
  {
   "cell_type": "markdown",
   "metadata": {},
   "source": [
    "## Create regular time series"
   ]
  },
  {
   "cell_type": "code",
   "execution_count": 3,
   "metadata": {},
   "outputs": [],
   "source": [
    "# Make a sequence of dates with daily interval\n",
    "pdates <-seq(as.Date( '2015-01-01'),as.Date( '2019-12-31'),by='1 days',)\n",
    "# directories of sampled rasters\n",
    "sfolders <- list.files(path = ifolder, full.names = T, recursive = TRUE, include.dirs = T, pattern = 'drive*')\n",
    "# sampled locations \n",
    "crds <- read.csv(file.path(sfolder, 'Split_RndmSample_NoFire_5_Tree_80_scl_30_npnt_20000.csv'),\n",
    "        header=F)\n",
    "slat <- crds$V4\n",
    "slon <- crds$V3\n",
    "coords = cbind(slon, slat)\n",
    "sp = SpatialPoints(coords)\n",
    "proj4string(sp) = CRS(\"+init=epsg:4326\")\n",
    "\n",
    "\n",
    "for (fo in 10:length(sfolders)){#:length(sfolders)\n",
    "    ifiles <- list.files(paste0(sfolders[fo]))\n",
    "    for (fi in 1:length(ifiles)){#:length(ifiles)\n",
    "        # bounding box geotiff\n",
    "        rs <- stack(file.path(sfolders[fo],ifiles[fi]))\n",
    "        SPtrans = spTransform(sp, crs(rs))\n",
    "        \n",
    "        # observation dates\n",
    "        met <- gdalinfo(file.path(sfolders[fo],ifiles[fi]))\n",
    "        ind <- grep( ' Description = ', met)\n",
    "        mp <- strsplit(gsub(' Description = ', '', met[ind]), '_')\n",
    "        dts <- sapply(strsplit(sapply(mp, `[`, 6),'T'), `[`, 1)\n",
    "        dts <- as.Date(dts,format = '%Y%m%d')\n",
    "        #print(dts)\n",
    "        \n",
    "        # create regular time series for each sampled location\n",
    "        tsi <- extract(rs, SPtrans, method='simple', buffer=NULL, small=FALSE, cellnumbers=FALSE, \n",
    "                       fun=NULL, na.rm=TRUE,1, df=FALSE, factors=FALSE)\n",
    "        #print(dim(tsi))\n",
    "        tsii <- cbind(slon,slat, tsi)\n",
    "        pxi <- which(! rowSums(is.na(tsii[,-c(1,2)])) == (dim(tsii)[2]-2))\n",
    "        tsii <- tsii[pxi,] # remove empty rows\n",
    "        \n",
    "        dfVI <- data.frame(data= matrix(NA, nrow = 1,ncol= (2+length(pdates))))#+length(pdates)\n",
    "        colnames(dfVI) <- c('lon', 'lat', as.character(pdates))\n",
    "        dfVI$lat <- as.numeric(tsii[2])\n",
    "        dfVI$lon <- as.numeric(tsii[1])\n",
    "          \n",
    "        for (d in 1:length(pdates)){#\n",
    "            dt<-mean(tsii[(2+which(dts == pdates[d]))])#\n",
    "            dfVI[[as.character(pdates[d])]] <- dt    \n",
    "          }\n",
    "        head(dfVI)\n",
    "\n",
    "        # export to RData file\n",
    "        save(dfVI, file = file.path(ofolder,paste0(substr(ifiles[fi], 1, 6), 'pix_', pxi[1],'.rda')))\n",
    "        rm(met, ind, mp, dts, rs, SPtrans, dfVI) \n",
    "        \n",
    "        #tsii <- as.data.frame(tsii)\n",
    "        #rownames(tsii) <- c('lon', 'lat', as.character(dts))\n",
    "                \n",
    "        #df <- data.frame(data= matrix(NA, nrow = 1, ncol= (2+length(pdates))))#+length(pdates)\n",
    "        #colnames(df) <- c('lon', 'lat', as.character(pdates))\n",
    "        #df[,c(1,2,(which(pdates %in% dts))+2)] <- as.matrix(tsii)\n",
    "\n",
    "               \n",
    "    }\n",
    "}\n"
   ]
  },
  {
   "cell_type": "code",
   "execution_count": null,
   "metadata": {},
   "outputs": [],
   "source": []
  },
  {
   "cell_type": "code",
   "execution_count": null,
   "metadata": {},
   "outputs": [],
   "source": []
  }
 ],
 "metadata": {
  "kernelspec": {
   "display_name": "R",
   "language": "R",
   "name": "ir"
  },
  "language_info": {
   "codemirror_mode": "r",
   "file_extension": ".r",
   "mimetype": "text/x-r-source",
   "name": "R",
   "pygments_lexer": "r",
   "version": "3.6.1"
  }
 },
 "nbformat": 4,
 "nbformat_minor": 2
}
