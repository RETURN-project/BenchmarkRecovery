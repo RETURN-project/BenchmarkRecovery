{
 "cells": [
  {
   "cell_type": "markdown",
   "metadata": {},
   "source": [
    "# Characterize dynamics of Landsat time series components\n",
    "<font color=gray>This script decomposes the time series into a set of components (trend, remainder, and seasonality) and characterizes each of these components</font>"
   ]
  },
  {
   "cell_type": "markdown",
   "metadata": {},
   "source": [
    "## 1. Import libraries"
   ]
  },
  {
   "cell_type": "code",
   "execution_count": 1,
   "metadata": {},
   "outputs": [
    {
     "name": "stderr",
     "output_type": "stream",
     "text": [
      "Registered S3 method overwritten by 'xts':\n",
      "  method     from\n",
      "  as.zoo.xts zoo \n",
      "Registered S3 method overwritten by 'quantmod':\n",
      "  method            from\n",
      "  as.zoo.data.frame zoo \n",
      "Registered S3 methods overwritten by 'forecast':\n",
      "  method             from    \n",
      "  fitted.fracdiff    fracdiff\n",
      "  residuals.fracdiff fracdiff\n"
     ]
    }
   ],
   "source": [
    "library(bfast)\n",
    "library(forecast)\n",
    "#install.packages('gdata')\n",
    "#library(gdata)\n"
   ]
  },
  {
   "cell_type": "markdown",
   "metadata": {},
   "source": [
    "## 2. Inputs"
   ]
  },
  {
   "cell_type": "code",
   "execution_count": 2,
   "metadata": {},
   "outputs": [],
   "source": [
    "ifolder <-'C:\\\\Users\\\\keers001\\\\Data\\\\RETURN\\\\20191019_SimulationOptSAR\\\\Landsat\\\\SampledData\\\\'\n",
    "ofolder <-'C:\\\\Users\\\\keers001\\\\Data\\\\RETURN\\\\20191019_SimulationOptSAR\\\\Landsat\\\\Char\\\\'\n",
    "nfolder <- 'C:\\\\Users\\\\keers001\\\\Dropbox\\\\output\\\\Jupyter_notebook\\\\'\n",
    "basename <- 'LSTS_RndmSample_NoFire_5_Tree_80_scl_30_npnt_20000_VI'\n",
    "nyr <- 18 # number of years in observation period\n",
    "nobsYr <- 365 # number of observations per year"
   ]
  },
  {
   "cell_type": "markdown",
   "metadata": {},
   "source": [
    "## 3. Import data\n",
    "<font color=gray>Import the dataframe with time series that need to be characterized. The dataframe needs to be structured as follows:\n",
    " - Each row represents a pixel\n",
    " - The first two columns contain the coordinates of the pixel\n",
    " - The remaining columns equal observations at a particular date. The dates must have regular intervals.</font>"
   ]
  },
  {
   "cell_type": "code",
   "execution_count": 3,
   "metadata": {},
   "outputs": [
    {
     "data": {
      "text/html": [
       "0"
      ],
      "text/latex": [
       "0"
      ],
      "text/markdown": [
       "0"
      ],
      "text/plain": [
       "[1] 0"
      ]
     },
     "metadata": {},
     "output_type": "display_data"
    }
   ],
   "source": [
    "system(paste0('jupyter-nbconvert.exe ', nfolder, 'sim_Functions.ipynb  --to script'))#, intern=FALSE\n",
    "source(file.path(nfolder, 'sim_Functions.r'))\n",
    "\n",
    "ifileVI <- paste0(basename, '.rda')\n",
    "dfVi <- loadRData(file = file.path(ifolder, ifileVI))\n",
    "#head(dfVi)"
   ]
  },
  {
   "cell_type": "markdown",
   "metadata": {},
   "source": [
    "## 4. Decompose time series using BFAST01\n",
    "<font color=gray>Decomposition of time series into seasonality, trend and remainder\n",
    "\n",
    " - Seasonality: modeled as a harmonic function\n",
    " - Trend: linear trend without break\n",
    " - Remainder: residuals, calculated as time series - trend - seasonality\n",
    "</font>\n"
   ]
  },
  {
   "cell_type": "code",
   "execution_count": 4,
   "metadata": {},
   "outputs": [],
   "source": [
    "tmp <- decompTSbfast(dfVi, nyr, nobsYr)\n",
    "#print(tmp)\n",
    "# sesonality (fitted harmonic function)\n",
    "dataVISeasbf <-  tmp[[1]]\n",
    "# remainder\n",
    "dataVIRembf <- tmp[[2]]\n",
    "# trend (linear trend without break)\n",
    "dataVITrbf <- tmp[[3]]\n",
    "# coefficients of fitted harmonic functions \n",
    "dataVISeasCoef <- tmp[[4]]\n",
    "\n"
   ]
  },
  {
   "cell_type": "markdown",
   "metadata": {},
   "source": [
    "## 5. Characterize each of the components"
   ]
  },
  {
   "cell_type": "code",
   "execution_count": 5,
   "metadata": {},
   "outputs": [],
   "source": [
    "# ------------------------------------------------\n",
    "# general\n",
    "\n",
    "# fraction missing values\n",
    "tsVIMissVal <- rowSums(is.na(dfVi))/dim(dfVi)[2]\n",
    "\n",
    "# ------------------------------------------------\n",
    "# seasonality\n",
    "\n",
    "# half of the seasonal amplitude for each pixel\n",
    "seasVImax <- apply(dataVISeasbf[,-c(1,2)], 1, max) \n",
    "#average seasonal pattern\n",
    "seasS <- dataVISeasbf[dataVISeasbf[,1]<0,]# only southern hemisphere to avoid interference of seasonal cycles\n",
    "seasVImean <- colMeans(as.matrix(seasS[,-c(1,2)]))\n",
    "\n",
    "# ------------------------------------------------\n",
    "# offset \n",
    "TrVImean <- mean(rowMeans(as.matrix(dataVITrbf[,-c(1,2)])), na.rm=T)\n",
    "\n",
    "# ------------------------------------------------\n",
    "# remainder\n",
    "\n",
    "# SD of remainder per pixel\n",
    "Rem_VIsd <- apply(dataVIRembf[,-c(1,2)], 1, sd, na.rm=T)\n",
    "# ARMA model - characterization of the remainder dynamics per pixel\n",
    "Rem_VIcoef <- list()\n",
    "for(i in 1:dim(dataVIRembf)[1]){\n",
    "  Rem_VIcoef[[i]] <- getARMAcoef(ts(as.numeric(dataVIRembf[i,-c(1,2)]), frequency=nobsYr))\n",
    "}\n"
   ]
  },
  {
   "cell_type": "markdown",
   "metadata": {},
   "source": [
    "## 6. Export"
   ]
  },
  {
   "cell_type": "code",
   "execution_count": 6,
   "metadata": {},
   "outputs": [],
   "source": [
    "# Components\n",
    "save(dataVISeasbf, file = file.path(ofolder, paste0(tools::file_path_sans_ext(ifileVI), '_Seasbf.rda')))\n",
    "save(dataVIRembf, file = file.path(ofolder, paste0(tools::file_path_sans_ext(ifileVI), '_Rembf.rda')))\n",
    "save(dataVITrbf, file = file.path(ofolder, paste0(tools::file_path_sans_ext(ifileVI), '_Trbf.rda')))\n",
    "save(dataVISeasCoef, file = file.path(ofolder, paste0(tools::file_path_sans_ext(ifileVI), '_SeasCoefbf.rda')))\n",
    "\n",
    "# characteristics components\n",
    "save(seasVImax, file = file.path(ofolder, paste0(tools::file_path_sans_ext(ifileVI), '_seasVImax.rda')))\n",
    "save(seasVImean, file = file.path(ofolder, paste0(tools::file_path_sans_ext(ifileVI), '_seasVImean.rda')))\n",
    "\n",
    "save(TrVImean, file = file.path(ofolder, paste0(tools::file_path_sans_ext(ifileVI), '_TrVImean.rda')))\n",
    "\n",
    "save(Rem_VIsd, file = file.path(ofolder, paste0(tools::file_path_sans_ext(ifileVI), '_Rem_VIsd.rda')))\n",
    "\n",
    "save(Rem_VIcoef, file = file.path(ofolder, paste0(tools::file_path_sans_ext(ifileVI), '_Rem_VIcoef.rda')))\n",
    "save(tsVIMissVal, file = file.path(ofolder, paste0(tools::file_path_sans_ext(ifileVI), '_ts_VIMissVal.rda')))\n"
   ]
  },
  {
   "cell_type": "code",
   "execution_count": 8,
   "metadata": {},
   "outputs": [
    {
     "data": {
      "image/png": "[encoded data removed]",
      "text/plain": [
       "plot without title"
      ]
     },
     "metadata": {},
     "output_type": "display_data"
    }
   ],
   "source": []
  },
  {
   "cell_type": "code",
   "execution_count": null,
   "metadata": {},
   "outputs": [],
   "source": []
  }
 ],
 "metadata": {
  "kernelspec": {
   "display_name": "R",
   "language": "R",
   "name": "ir"
  },
  "language_info": {
   "codemirror_mode": "r",
   "file_extension": ".r",
   "mimetype": "text/x-r-source",
   "name": "R",
   "pygments_lexer": "r",
   "version": "3.6.1"
  }
 },
 "nbformat": 4,
 "nbformat_minor": 2
}
