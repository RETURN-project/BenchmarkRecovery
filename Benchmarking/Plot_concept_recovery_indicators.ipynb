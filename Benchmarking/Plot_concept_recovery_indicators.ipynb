{
 "cells": [
  {
   "cell_type": "markdown",
   "metadata": {},
   "source": [
    "# Example of recovery indicators from dense time series"
   ]
  },
  {
   "cell_type": "code",
   "execution_count": 16,
   "metadata": {},
   "outputs": [
    {
     "name": "stderr",
     "output_type": "stream",
     "text": [
      "Warning message in plot.window(...):\n",
      "\"\"at\" is not a graphical parameter\"Warning message in plot.window(...):\n",
      "\"\"labels\" is not a graphical parameter\"Warning message in plot.xy(xy, type, ...):\n",
      "\"\"at\" is not a graphical parameter\"Warning message in plot.xy(xy, type, ...):\n",
      "\"\"labels\" is not a graphical parameter\"Warning message in box(...):\n",
      "\"\"at\" is not a graphical parameter\"Warning message in box(...):\n",
      "\"\"labels\" is not a graphical parameter\"Warning message in title(...):\n",
      "\"\"at\" is not a graphical parameter\"Warning message in title(...):\n",
      "\"\"labels\" is not a graphical parameter\""
     ]
    },
    {
     "data": {
      "text/html": [
       "<strong>png:</strong> 2"
      ],
      "text/latex": [
       "\\textbf{png:} 2"
      ],
      "text/markdown": [
       "**png:** 2"
      ],
      "text/plain": [
       "png \n",
       "  2 "
      ]
     },
     "metadata": {},
     "output_type": "display_data"
    }
   ],
   "source": [
    "figfolder <- '\\\\\\\\WURNET.NL\\\\Homes\\\\keers001\\\\My Documents\\\\RETURN\\\\20191019_SimulationOptSAR\\\\Figures\\\\' # folder where the simulated time series will be saved\n",
    "tsi <- c(rep(5,24), seq(1,4,length.out=72))\n",
    "seas <- rep(c(1.5,2,3,4,5,5.6,6,5.5,5,4,3,2),8)/10\n",
    "rnd <- c(seq(0.25,-0.25,length.out=12),seq(-0.25,0,length.out=12),seq(0,0.25,length.out=12),seq(0.25,0.25,length.out=12),seq(0.25,-0.25,length.out=12),seq(-0.25,0.25,length.out=12),seq(0.25,-0.25,length.out=12),seq(-0.25,0,length.out=12))\n",
    "tdist <- 25\n",
    "obspyr <- 12\n",
    "vpre <- mean(tsi[1:24]+seas[1:24]+rnd[1:24])\n",
    "vdist <- mean(tsi[25:36]+seas[25:36]+rnd[25:36])\n",
    "vpost <- mean(tsi[61:84]+seas[61:84]+rnd[61:84])\n",
    "\n",
    "cexi <- 6\n",
    "lwdi <- 6\n",
    "\n",
    "png(file.path(figfolder, paste0('Concept_recovery_dense.png')),\n",
    "    width = 2065, height = 1000, units = \"px\")\n",
    "\n",
    "par(mar=c(12,8,5,3)+.1)\n",
    "plot(tsi+seas+rnd, type='l', lwd=lwdi, ylab = 'Vegetation response', xlab = '', yaxt = 'n',\n",
    "     at=c(1,13,25,37,49,61,73,85,97), labels = FALSE,\n",
    "    cex.lab=cexi, cex.axis=cexi, cex.main=cexi, cex.sub=cexi)#ylim = c(0,6)\n",
    "#title(ylab=\"Time\", line=0, cex.lab=1.2, family=\"Calibri Light\")\n",
    "text(x=c(1,13,25,37,49,61,73,85,97),  par(\"usr\")[3], cex = cexi, \n",
    "     labels = c(expression(\"t\"[\" -2*nopy\"]),\n",
    "                expression(\"t\"[\" -nopy\"]),\n",
    "                expression(\"t\"[\"0\"]),\n",
    "                expression(\"t\"[\"nopy\"]),\n",
    "                expression(\"t\"[\"2*nopy\"]),\n",
    "                expression(\"t\"[\"3*nopy\"]),\n",
    "                expression(\"t\"[\"4*nopy\"]),\n",
    "                expression(\"t\"[\"5*nopy\"]),                \n",
    "                expression(\"t\"[\"6*nopy\"])), pos = 1, xpd = TRUE, offset=1)\n",
    "\n",
    "text(x=-1, y= 6, par(\"usr\")[3], cex = cexi, \n",
    "     labels = \"(B)\", pos = 2, xpd = TRUE, offset=4)\n",
    "\n",
    "lines(1:24,rep(vpre,24), lw=(lwdi+6), col = 'darkcyan')\n",
    "text(x=12, y= rep(vpre,24), par(\"usr\")[3], cex = cexi, \n",
    "     labels = expression(\"V\"[\"pre\"]), pos = 1, xpd = TRUE, offset=4, col='darkcyan')\n",
    "\n",
    "lines(25:36,rep(vdist,12), lw=(lwdi+6), col = 'darkcyan')\n",
    "text(x=31, y= rep(mean(tsi[25:36]+seas[25:36]),12), par(\"usr\")[3], cex = cexi,  \n",
    "     labels = expression(\"V\"[\"dist\"]), pos = 3, xpd = TRUE, offset=5, col='darkcyan')\n",
    "\n",
    "lines(61:84,rep(vpost,24), lw=(lwdi+6), col = 'darkcyan')\n",
    "text(x=73, y= rep(vpost,24), par(\"usr\")[3], cex = cexi,  \n",
    "     labels = expression(\"V\"[\"post\"]), pos = 3, xpd = TRUE, offset=3, col='darkcyan')\n",
    "\n",
    "abline(v = 25, col=\"red\", lwd=lwdi, lty=2)\n",
    "#text(x=12, y= 4, par(\"usr\")[3], \n",
    "#     labels = \"Disturbance\", pos = 1, xpd = TRUE, offset=0, col='red')\n",
    "\n",
    "text(x=30, y= 5, par(\"usr\")[3], cex = (cexi-1),  \n",
    "     labels = expression(paste(\"RRI = \",Delta[\"rec\"],\" / \",Delta[\"dist\"])), pos = 4, xpd = TRUE, offset=1, col='darkgrey')\n",
    "text(x=30, y= 4.5, par(\"usr\")[3], cex = (cexi-1),  \n",
    "     labels = expression(paste(\"R\"[\"80p\"], \" = V\"[\"post\"],\" / (V\"[\"pre\"],\"*0.8)\")), pos = 4, xpd = TRUE, offset=1, col='darkgrey')\n",
    "text(x=30, y= 4, par(\"usr\")[3], cex = (cexi-1),  \n",
    "     labels = expression(paste(\"YrYr = \", Delta[\"rec\"],\" / t\"[\"rec\"])), pos = 4, xpd = TRUE, offset=1, col='darkgrey')\n",
    "\n",
    "arrows(25, 1.6, 72, 1.6,length = 0.5, lwd = lwdi, col = 'darkolivegreen3')\n",
    "arrows(72, 1.6, 25, 1.6, length = 0.5, lwd = lwdi, col = 'darkolivegreen3')\n",
    "text(x=50, y= 1.6, par(\"usr\")[3], cex = (cexi-1),  \n",
    "     labels = expression(\"t\"[\"rec\"]), pos = 3, xpd = TRUE, offset=2, col='darkolivegreen3')\n",
    "arrows(72, vdist, 72, vpost,length = 0.5, lwd = lwdi, col = 'darkolivegreen3')\n",
    "arrows(72, vpost, 72, vdist, length = 0.5, lwd = lwdi, col = 'darkolivegreen3')\n",
    "text(x=72, y= (vdist+vpost)/2, par(\"usr\")[3], cex = (cexi-1),  \n",
    "     labels = expression(Delta[\"rec\"]), pos = 4, xpd = TRUE, offset=1, col='darkolivegreen3')\n",
    "arrows(22, vdist, 22, vpre,length = 0.5, lwd = lwdi, col = 'darkolivegreen3')\n",
    "arrows(22, vpre, 22, vdist, length = 0.5, lwd = lwdi, col = 'darkolivegreen3')\n",
    "text(x=22, y= (vdist+vpre)/2, par(\"usr\")[3], cex = (cexi-1),  \n",
    "     labels =expression(Delta[\"dist\"]), pos = 2, xpd = TRUE, offset=2, col='darkolivegreen3')\n",
    "\n",
    "text(x=50, par(\"usr\")[3], cex = (cexi),  \n",
    "     labels = paste0(\"Time\"), pos = 1, xpd = TRUE, offset=7, col='black')\n",
    "\n",
    "#lines(c(1,1),c(-0.5,vpre), lty = 2, col = 'orange', lw = lwdi)\n",
    "#text(x=1, y= 0, par(\"usr\")[3], cex = (cexi-1),  \n",
    "#     labels = paste0(\"pr\"), pos = 4, xpd = TRUE, offset=2, col='orange')\n",
    "\n",
    "dev.off()\n",
    "    \n",
    "shortDenseTS <- T\n",
    "nPre <- 2\n",
    "nDist <- 12\n",
    "nPostMin <- 3\n",
    "nPostMax <-5\n"
   ]
  },
  {
   "cell_type": "markdown",
   "metadata": {},
   "source": [
    "# Annual"
   ]
  },
  {
   "cell_type": "code",
   "execution_count": 52,
   "metadata": {},
   "outputs": [
    {
     "name": "stderr",
     "output_type": "stream",
     "text": [
      "Warning message in plot.window(...):\n",
      "\"\"at\" is not a graphical parameter\"Warning message in plot.window(...):\n",
      "\"\"labels\" is not a graphical parameter\"Warning message in plot.xy(xy, type, ...):\n",
      "\"\"at\" is not a graphical parameter\"Warning message in plot.xy(xy, type, ...):\n",
      "\"\"labels\" is not a graphical parameter\"Warning message in box(...):\n",
      "\"\"at\" is not a graphical parameter\"Warning message in box(...):\n",
      "\"\"labels\" is not a graphical parameter\"Warning message in title(...):\n",
      "\"\"at\" is not a graphical parameter\"Warning message in title(...):\n",
      "\"\"labels\" is not a graphical parameter\""
     ]
    },
    {
     "data": {
      "text/html": [
       "<strong>png:</strong> 2"
      ],
      "text/latex": [
       "\\textbf{png:} 2"
      ],
      "text/markdown": [
       "**png:** 2"
      ],
      "text/plain": [
       "png \n",
       "  2 "
      ]
     },
     "metadata": {},
     "output_type": "display_data"
    }
   ],
   "source": [
    "#install.packages('pBrackets')\n",
    "#library(pBrackets)\n",
    "\n",
    "figfolder <- '\\\\\\\\WURNET.NL\\\\Homes\\\\keers001\\\\My Documents\\\\RETURN\\\\20191019_SimulationOptSAR\\\\Figures\\\\' # folder where the simulated time series will be saved\n",
    "tsi <- c(rep(5,2), seq(1,4,length.out=6))\n",
    "seas <- rep(mean(c(1.5,2,3,4,5,5.6,6,5.5,5,4,3,2)),8)/10\n",
    "rnd <- c(0.25,0.25,0,0.25,0.25,-0.25,0.25,-0.25)\n",
    "tdist <- 25\n",
    "obspyr <- 1\n",
    "vpre <- mean(tsi[1:2]+seas[1:2]+rnd[1:2])\n",
    "vdist <- mean(tsi[3]+seas[3]+rnd[3])\n",
    "vpost <- max(tsi[7:8]+seas[7:8]+rnd[7:8])\n",
    "\n",
    "cexi <- 6\n",
    "lwdi <- 6\n",
    "\n",
    "png(file.path(figfolder, paste0('Concept_recovery_annual.png')),\n",
    "    width = 2065, height = 1000, units = \"px\")\n",
    "\n",
    "par(mar=c(12,8,5,3)+.1)\n",
    "plot(tsi+seas+rnd, type='l', lwd=lwdi, ylab = 'Vegetation response', xlab = '', yaxt = 'n',\n",
    "     at=1:8, labels = FALSE,\n",
    "    cex.lab=cexi, cex.axis=cexi, cex.main=cexi, cex.sub=cexi, ylim = c(0,6))#ylim = c(0,6)\n",
    "#title(ylab=\"Time\", line=0, cex.lab=1.2, family=\"Calibri Light\")\n",
    "text(x=1:8,  par(\"usr\")[3], cex = cexi, \n",
    "     labels = c(expression(\"Y\"[\" -2\"]),\n",
    "                expression(\"Y\"[\" -1\"]),\n",
    "                expression(\"Y\"[\"0\"]),\n",
    "                expression(\"Y\"[\"1\"]),\n",
    "                expression(\"Y\"[\"2\"]),\n",
    "                expression(\"Y\"[\"3\"]),\n",
    "                expression(\"Y\"[\"4\"]),\n",
    "                expression(\"Y\"[\"5\"])), pos = 1, xpd = TRUE, offset=1)\n",
    "\n",
    "text(x=0.7, y= 6.5, par(\"usr\")[3], cex = cexi, \n",
    "     labels = \"(A)\", pos = 2, xpd = TRUE, offset=1)\n",
    "\n",
    "lines(1:2,rep(vpre,2), lw=(lwdi+6), col = 'darkcyan')\n",
    "text(x=1.5, y= rep(vpre,2), par(\"usr\")[3], cex = (cexi-1), \n",
    "     labels = expression(\"V\"[\"pre\"]), pos = 1, xpd = TRUE, offset=4, col='darkcyan')\n",
    "\n",
    "points(3,rep(vdist,1), lw=(lwdi+26), col = 'darkcyan')\n",
    "text(x=3.2, y= vdist, par(\"usr\")[3], cex = (cexi-1),  \n",
    "     labels = expression(\"V\"[\"dist\"]), pos = 3, xpd = TRUE, offset=4, col='darkcyan')\n",
    "\n",
    "points(8,vpost, lw=(lwdi+26), col = 'darkcyan')\n",
    "text(x=7, y= vpost, par(\"usr\")[3], cex = (cexi-1),  \n",
    "     labels = expression(paste(\"V\"[\"post\"],\"= max(V[Y\"[\"4\"],\", Y\"[\"5\"],\"])\")), pos = 3, xpd = TRUE, offset=3, col='darkcyan')\n",
    "\n",
    "abline(v = 3, col=\"red\", lwd=lwdi, lty=2)\n",
    "#text(x=12, y= 4, par(\"usr\")[3], \n",
    "#     labels = \"Disturbance\", pos = 1, xpd = TRUE, offset=0, col='red')\n",
    "\n",
    "text(x=3, y= 5.5, par(\"usr\")[3], cex = (cexi-1),  \n",
    "     labels = expression(paste(\"RRI = \", Delta[\"rec\"],\" / \",Delta[\"dist\"])), pos = 4, xpd = TRUE, offset=1, col='darkgrey')\n",
    "text(x=3, y= 4.8, par(\"usr\")[3], cex = (cexi-1),  \n",
    "     labels = expression(paste(\"R\"[\"80p\"], \" = V\"['post'],\" / (V\"['pre'],\"*0.8)\")), pos = 4, xpd = TRUE, offset=1, col='darkgrey')\n",
    "text(x=3, y= 4.1, par(\"usr\")[3], cex = (cexi-1),  \n",
    "     labels = expression(paste(\"YrYr = (R[Y\"['5'],\"] - V\"['dist'],\") / 5\")), pos = 4, xpd = TRUE, offset=1, col='darkgrey')\n",
    "\n",
    "#arrows(3, 1.2, 8, 1.2,length = 0.5, lwd = lwdi, col = 'darkolivegreen3')\n",
    "#arrows(8, 1.2, 3, 1.2, length = 0.5, lwd = lwdi, col = 'darkolivegreen3')\n",
    "#text(x=5, y= 1.2, par(\"usr\")[3], cex = (cexi-1),  \n",
    "#     labels = expression(\"t\"[\"rec\"]), pos = 3, xpd = TRUE, offset=2, col='darkolivegreen3')\n",
    "arrows(8, vdist, 8, vpost,length = 0.5, lwd = lwdi, col = 'darkolivegreen3')\n",
    "arrows(8, vpost, 8, vdist, length = 0.5, lwd = lwdi, col = 'darkolivegreen3')\n",
    "#brackets(7, vpost, 8, vpost)#'{', srt = -90, cex = 16, family = 'Helvetica Neue UltraLight')\n",
    "text(x=8, y= (vdist+vpost)/2, par(\"usr\")[3], cex = (cexi-1),  \n",
    "     labels = expression(Delta[\"rec\"]), pos = 2, xpd = TRUE, offset=1, col='darkolivegreen3')\n",
    "arrows(1.8, vdist, 1.8, vpre,length = 0.5, lwd = lwdi, col = 'darkolivegreen3')\n",
    "arrows(1.8, vpre, 1.8, vdist, length = 0.5, lwd = lwdi, col = 'darkolivegreen3')\n",
    "text(x=1.8, y= (vdist+vpre)/2, par(\"usr\")[3], cex = (cexi-1),  \n",
    "     labels = expression(Delta[\"dist\"]), pos = 2, xpd = TRUE, offset=2, col='darkolivegreen3')\n",
    "\n",
    "text(x=4, par(\"usr\")[3], cex = (cexi),  \n",
    "     labels = paste0(\"Time\"), pos = 1, xpd = TRUE, offset=7, col='black')\n",
    "\n",
    "#lines(c(1,1),c(-0.5,vpre), lty = 2, col = 'orange', lw = lwdi)\n",
    "#text(x=1, y= 0, par(\"usr\")[3], cex = (cexi-1),  \n",
    "#     labels = paste0(\"pr\"), pos = 4, xpd = TRUE, offset=2, col='orange')\n",
    "\n",
    "dev.off()\n",
    "    \n"
   ]
  },
  {
   "cell_type": "code",
   "execution_count": 1,
   "metadata": {},
   "outputs": [
    {
     "name": "stderr",
     "output_type": "stream",
     "text": [
      "Warning message in plot.window(...):\n",
      "\"\"at\" is not a graphical parameter\"Warning message in plot.window(...):\n",
      "\"\"labels\" is not a graphical parameter\"Warning message in plot.xy(xy, type, ...):\n",
      "\"\"at\" is not a graphical parameter\"Warning message in plot.xy(xy, type, ...):\n",
      "\"\"labels\" is not a graphical parameter\"Warning message in box(...):\n",
      "\"\"at\" is not a graphical parameter\"Warning message in box(...):\n",
      "\"\"labels\" is not a graphical parameter\"Warning message in title(...):\n",
      "\"\"at\" is not a graphical parameter\"Warning message in title(...):\n",
      "\"\"labels\" is not a graphical parameter\""
     ]
    },
    {
     "data": {
      "text/html": [
       "<strong>png:</strong> 2"
      ],
      "text/latex": [
       "\\textbf{png:} 2"
      ],
      "text/markdown": [
       "**png:** 2"
      ],
      "text/plain": [
       "png \n",
       "  2 "
      ]
     },
     "metadata": {},
     "output_type": "display_data"
    }
   ],
   "source": [
    "figfolder <- '\\\\\\\\WURNET.NL\\\\Homes\\\\keers001\\\\My Documents\\\\RETURN\\\\20191019_SimulationOptSAR\\\\Figures\\\\' # folder where the simulated time series will be saved\n",
    "tsi <- c(rep(5,24), seq(1,4,length.out=72))\n",
    "seas <- rep(c(1.5,2,3,4,5,5.6,6,5.5,5,4,3,2),8)/10\n",
    "rnd <- c(seq(0.25,-0.25,length.out=12),seq(-0.25,0,length.out=12),seq(0,0.25,length.out=12),seq(0.25,0.25,length.out=12),seq(0.25,-0.25,length.out=12),seq(-0.25,0.25,length.out=12),seq(0.25,-0.25,length.out=12),seq(-0.25,0,length.out=12))\n",
    "tdist <- 25\n",
    "obspyr <- 12\n",
    "vpre <- mean(tsi[1:24]+seas[1:24]+rnd[1:24])\n",
    "vdist <- mean(tsi[25:36]+seas[25:36]+rnd[25:36])\n",
    "vpost <- mean(tsi[61:84]+seas[61:84]+rnd[61:84])\n",
    "\n",
    "cexi <- 6\n",
    "lwdi <- 6\n",
    "\n",
    "png(file.path(figfolder, paste0('Concept_dense.png')),\n",
    "    width = 2065, height = 1000, units = \"px\")\n",
    "\n",
    "par(mar=c(12,8,5,3)+.1)\n",
    "plot(tsi+seas+rnd, type='l', lwd=lwdi, ylab = 'Vegetation response', xlab = '', yaxt = 'n',\n",
    "     at=c(1,13,25,37,49,61,73,85,97), labels = FALSE,\n",
    "    cex.lab=cexi, cex.axis=cexi, cex.main=cexi, cex.sub=cexi)#ylim = c(0,6)\n",
    "#title(ylab=\"Time\", line=0, cex.lab=1.2, family=\"Calibri Light\")\n",
    "text(x=c(1,13,25,37,49,61,73,85,97),  par(\"usr\")[3], cex = cexi, \n",
    "     labels = c(expression(\"t\"[\" -2*nopy\"]),\n",
    "                expression(\"t\"[\" -nopy\"]),\n",
    "                expression(\"t\"[\"0\"]),\n",
    "                expression(\"t\"[\"nopy\"]),\n",
    "                expression(\"t\"[\"2*nopy\"]),\n",
    "                expression(\"t\"[\"3*nopy\"]),\n",
    "                expression(\"t\"[\"4*nopy\"]),\n",
    "                expression(\"t\"[\"5*nopy\"]),                \n",
    "                expression(\"t\"[\"6*nopy\"])), pos = 1, xpd = TRUE, offset=1)\n",
    "\n",
    "\n",
    "abline(v = 25, col=\"red\", lwd=lwdi, lty=2)\n",
    "#text(x=12, y= 4, par(\"usr\")[3], \n",
    "#     labels = \"Disturbance\", pos = 1, xpd = TRUE, offset=0, col='red')\n",
    "\n",
    "#lines(c(1,1),c(-0.5,vpre), lty = 2, col = 'orange', lw = lwdi)\n",
    "#text(x=1, y= 0, par(\"usr\")[3], cex = (cexi-1),  \n",
    "#     labels = paste0(\"pr\"), pos = 4, xpd = TRUE, offset=2, col='orange')\n",
    "\n",
    "dev.off()\n",
    "    \n",
    "shortDenseTS <- T\n",
    "nPre <- 2\n",
    "nDist <- 12\n",
    "nPostMin <- 3\n",
    "nPostMax <-5\n"
   ]
  },
  {
   "cell_type": "code",
   "execution_count": null,
   "metadata": {},
   "outputs": [],
   "source": []
  }
 ],
 "metadata": {
  "kernelspec": {
   "display_name": "R",
   "language": "R",
   "name": "ir"
  },
  "language_info": {
   "codemirror_mode": "r",
   "file_extension": ".r",
   "mimetype": "text/x-r-source",
   "name": "R",
   "pygments_lexer": "r",
   "version": "3.6.1"
  }
 },
 "nbformat": 4,
 "nbformat_minor": 2
}
