{
 "cells": [
  {
   "cell_type": "markdown",
   "metadata": {},
   "source": [
    "# Create simulation settings file \n",
    "*This scripts creates a settings file that is needed as input to simulate time series*\n",
    "\n",
    "*In order to simulate the time series, each of the time series components (seasonality, offset, remainder, and disturbance) are seperately simulated and subsequently summed. To ensure that the characteristics of these components are realistically simulated, the simulation is based on the characteristics of components of sampled time series (these can be characterised using eg the Char_opt_TS script).*\n",
    "\n",
    "*The __seasonality__ is represented by an average sampled seasonal pattern having zero mean. Its amplitude can be adjusted and set within the range of the observed seasonal amplitudes. Additionally, drought events can be introduced by setting the seasonal cycle of a particular year to its minimum value. The __offset__ equals the average value of the observed time series. The __remainder__ represents the anomaly (in case no major disturbances are present). This component is defined by an ARMA model, fitted in the sampled remainder components, and its standard deviation can be adjusted. Finally, the __disturbance__ is represented by a step function with linear recovery. Here, the disturbance magnitude (magnitude of step function), disturbance timing (timing of step function) and recovery period (time needed to return to the predisturbance value) can be adjusted. After summing each of the components, missing values are introduced, with a user defined fraction.*\n",
    "\n",
    "*In summary, the following characteristics can be adjusted:*\n",
    " - *seasonal amplitude*\n",
    " - *number of droughts*\n",
    " - *standard deviation of the remainder*\n",
    " - *disturbance magnitude*\n",
    " - *disturbance timing*\n",
    " - *recovery period*\n",
    " - *fraction of missing values*\n",
    "\n",
    "*To be able to isolate the effect of a particular time series characteristic on the performance of a method, the following simulation set-up is used. First, a standard value for each of the characteristics is defined. Next, each  characteristic is allowed to seperately range over a set of values. For each value of the variable characteristic, n time series are simulated, while all other values of the time series characteristics are fixed to their standard value.*\n",
    "\n",
    "*To ensure that the time series components and values of time series characteristics are realistic, the following data need to be derived from sampled time series:*\n",
    "\n",
    " - *Average seasonal pattern*\n",
    " - *Set of seasonal amplitudes from sampled time series*\n",
    " - *Offset*\n",
    " - *Standard deviation of remainder from sampled time series*\n",
    " - **\n",
    " - **\n",
    " - **\n",
    "\n"
   ]
  },
  {
   "cell_type": "markdown",
   "metadata": {},
   "source": [
    "## 1. Import libraries"
   ]
  },
  {
   "cell_type": "code",
   "execution_count": 1,
   "metadata": {},
   "outputs": [],
   "source": [
    "#library(gdata)"
   ]
  },
  {
   "cell_type": "markdown",
   "metadata": {},
   "source": [
    "## 2. Inputs\n",
    "*The script requires the following inputs:*\n",
    "\n",
    "<font color=gray>    \n",
    " - __ifolder__: input folder, directory of the sampled time series characteristics files\n",
    " - __ofolder__: output folder, directory where the processed files will be stored\n",
    " - __nfolder__: notebook folder, directory where the jupyter notebook files are stored\n",
    " - __basename__: base name of the simulated time series files\n",
    " - __pol__: variable that is processed<font>"
   ]
  },
  {
   "cell_type": "code",
   "execution_count": 2,
   "metadata": {},
   "outputs": [],
   "source": [
    "ifolder <- 'C:\\\\Users\\\\keers001\\\\OneDrive\\ -\\ WageningenUR\\\\RETURN\\\\Data\\\\RETURN\\\\20191019_SimulationOptSAR\\\\Landsat\\\\Char\\\\'  # folder with data characteristics\n",
    "ofolder <- 'C:\\\\Users\\\\keers001\\\\OneDrive\\ -\\ WageningenUR\\\\RETURN\\\\Data\\\\RETURN\\\\20191019_SimulationOptSAR\\\\Landsat\\\\SimTS\\\\'  # folder where the simulated time series will be saved\n",
    "nfolder <- 'C:\\\\Users\\\\keers001\\\\Dropbox\\\\output\\\\Jupyter_notebook\\\\'\n",
    "\n",
    "basename <- c('LSTS_RndmSample_NoFire_5_Tree_80_scl_30_npnt_20000_VI')# base name of the data files\n",
    "pol <- 'VI'#\n",
    "\n"
   ]
  },
  {
   "cell_type": "markdown",
   "metadata": {},
   "source": [
    "## 3. Import data\n"
   ]
  },
  {
   "cell_type": "code",
   "execution_count": 3,
   "metadata": {},
   "outputs": [
    {
     "data": {
      "text/html": [
       "0"
      ],
      "text/latex": [
       "0"
      ],
      "text/markdown": [
       "0"
      ],
      "text/plain": [
       "[1] 0"
      ]
     },
     "metadata": {},
     "output_type": "display_data"
    }
   ],
   "source": [
    "system(paste0('jupyter-nbconvert.exe ', nfolder, 'sim_Functions.ipynb  --to script'))#, intern=FALSE\n",
    "source(file.path(nfolder, 'sim_Functions.r'))\n",
    "\n",
    "seasmax <- loadRData(file = file.path(ifolder, paste0(basename, '_seas', pol, 'max.rda')))# half seasonal amplitude\n",
    "seasmean <- loadRData(file = file.path(ifolder, paste0(basename, '_seas', pol, 'mean.rda')))\n",
    "trmean <- loadRData(file = file.path(ifolder, paste0(basename, '_Tr', pol, 'mean.rda')))\n",
    "remsd <- loadRData(file = file.path(ifolder, paste0(basename, '_Rem_', pol, 'sd.rda')))\n",
    "remcoef <- loadRData(file = file.path(ifolder, paste0(basename, '_Rem_', pol, 'coef.rda')))\n",
    "missval <- loadRData(file = file.path(ifolder, paste0(basename, '_ts_', pol, 'MissVal.rda')))\n",
    "  "
   ]
  },
  {
   "cell_type": "markdown",
   "metadata": {},
   "source": [
    "## 4. Define simulation settings \n",
    "*Here, the simulation settings are defined:*\n",
    "\n",
    "<font color=gray>    \n",
    " - __STnrep__: number of time series simulated per simulation run (one combination of all settings)\n",
    " - __STnobsYr__: number of observations simulated per year (this should equal the frequency of the sampled time series)\n",
    " - __DistMissVal__: defines how the introduced missing values should be distributed: random or at an equal interval\n",
    " - __STseasAv__: represents the standard seasonality<font>"
   ]
  },
  {
   "cell_type": "code",
   "execution_count": 4,
   "metadata": {},
   "outputs": [],
   "source": [
    "  #-------------------------------------------------\n",
    "  # standard settings and subsequently let each variable vary: \n",
    "STnrep <- 1000 \n",
    "STnobsYr <- 365\n",
    "DistMissVal <- 'random' # random or interval\n",
    "STseasAv <- seasmean\n",
    "\n",
    "STnDr <- 0 \n",
    "STnyr <- 20\n",
    "STdistMaglim <- -c(0.1,0.5) # magnitude randomly chosen between STdistMaglim dB\n",
    "STdistT <- 10 # disturbance at random observation date in year STdistT\n",
    "STdistReclim <- c(3,15)*STnobsYr # recovery time between STdistReclim years \n",
    "STqntl <- 0.5\n",
    "STmissVal <- quantile(missval, STqntl)# if random - fraction of missing values, otherwise the frequency of observations\n",
    "STseasAmp <- quantile(seasmax, STqntl)\n",
    "STremSd <- quantile(remsd, STqntl)\n",
    "STtrAv <- trmean\n",
    "\n",
    "VnDr <- c(0,1) # number of droughts\n",
    "Vnyr <- seq(6,40,3)# number of years\n",
    "VdistMag <- -seq(0.1,0.5,0.1)# magnitude disturbance\n",
    "VdistT <- seq(3,18,3)# timing disturbance\n",
    "VdistRec <- seq(3,15,1)*STnobsYr# recovery disturbance\n",
    "Vqntl <- c(.05, .275, .5, .725, .95)\n",
    "VmissVal <- quantile(missval, Vqntl)\n",
    "VseasAmp <- quantile(seasmax, Vqntl)# seasonal amplitude\n",
    "VremSd <- quantile(remsd, Vqntl)# sd of remainder\n",
    "  \n"
   ]
  },
  {
   "cell_type": "markdown",
   "metadata": {},
   "source": [
    "## 5. Create settings list"
   ]
  },
  {
   "cell_type": "code",
   "execution_count": 5,
   "metadata": {},
   "outputs": [],
   "source": [
    "STset <- list('var',\n",
    "              STnrep,\n",
    "              STnyr,\n",
    "              STnobsYr,\n",
    "              STnDr, \n",
    "              STseasAv, \n",
    "              STseasAmp,\n",
    "              STtrAv,\n",
    "              STremSd,\n",
    "              STdistMaglim,\n",
    "              STdistT, \n",
    "              STdistReclim, \n",
    "              STmissVal, \n",
    "              DistMissVal, \n",
    "              remcoef)\n",
    "names(STset) <- c('variable',\n",
    "                  'nrep',\n",
    "                  'nyr',\n",
    "                  'nobsYr',\n",
    "                  'nDr', \n",
    "                  'seasAv', \n",
    "                  'seasAmp',\n",
    "                  'trAv', \n",
    "                  'remSd', \n",
    "                  'distMag',\n",
    "                  'distT', \n",
    "                  'distRec', \n",
    "                  'missVal', \n",
    "                  'DistMissVal',\n",
    "                  'remcoef')\n",
    "\n",
    "\n",
    "DRset <- STset\n",
    "DRset$nDr <- VnDr\n",
    "DRset$var <- c('nDr')\n",
    "YRset <- STset\n",
    "YRset$nyr <- Vnyr\n",
    "YRset$var <- c('nyr')\n",
    "SEASAMPset <- STset\n",
    "SEASAMPset$seasAmp <- VseasAmp\n",
    "SEASAMPset$var <- c('seasAmp')\n",
    "REMSDset <- STset\n",
    "REMSDset$remSd <- VremSd\n",
    "REMSDset$var <- c('remSd')\n",
    "DISTMAGset <- STset\n",
    "DISTMAGset$distMag <- VdistMag\n",
    "DISTMAGset$var <- c('distMag')\n",
    "DISTTset <- STset\n",
    "DISTTset$distT <- VdistT\n",
    "DISTTset$var <- c('distT')\n",
    "DISTRECset <- STset\n",
    "DISTRECset$distRec <- VdistRec\n",
    "DISTRECset$var <- c('distRec')\n",
    "MISSVALset <- STset\n",
    "MISSVALset$missVal <- VmissVal\n",
    "MISSVALset$var <- c('missVal')\n",
    "\n",
    "\n",
    "sttngs <- list(DRset, YRset, SEASAMPset, REMSDset, DISTMAGset, DISTTset, DISTRECset, MISSVALset)\n",
    "names(sttngs) <- c('VnDr', 'Vnyr','VseasAmp','VremSd', 'VdistMag','VdistT', 'VdistRec', 'VmissVal')\n"
   ]
  },
  {
   "cell_type": "markdown",
   "metadata": {},
   "source": [
    "## Export"
   ]
  },
  {
   "cell_type": "code",
   "execution_count": 6,
   "metadata": {},
   "outputs": [],
   "source": [
    "save(sttngs, file = file.path(ofolder, paste0(basename, '_', pol, '_simTS_settings.rda')))\n",
    "  "
   ]
  },
  {
   "cell_type": "code",
   "execution_count": null,
   "metadata": {},
   "outputs": [],
   "source": []
  },
  {
   "cell_type": "code",
   "execution_count": null,
   "metadata": {},
   "outputs": [],
   "source": []
  }
 ],
 "metadata": {
  "kernelspec": {
   "display_name": "R",
   "language": "R",
   "name": "ir"
  },
  "language_info": {
   "codemirror_mode": "r",
   "file_extension": ".r",
   "mimetype": "text/x-r-source",
   "name": "R",
   "pygments_lexer": "r",
   "version": "3.6.1"
  }
 },
 "nbformat": 4,
 "nbformat_minor": 2
}
