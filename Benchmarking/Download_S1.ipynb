{
 "cells": [
  {
   "cell_type": "markdown",
   "metadata": {},
   "source": [
    "# Download Sentinel-1 data"
   ]
  },
  {
   "cell_type": "markdown",
   "metadata": {},
   "source": [
    "## Settings"
   ]
  },
  {
   "cell_type": "code",
   "execution_count": null,
   "metadata": {},
   "outputs": [],
   "source": [
    "library(RSelenium)\n",
    "library(rvest)\n",
    "library(magrittr)\n",
    "library(foreach)\n",
    "library(doParallel)\n",
    "library(pingr)\n",
    "\n",
    "nfolder <- 'C:\\\\Users\\\\keers001\\\\Dropbox\\\\output\\\\Jupyter_notebook\\\\'\n",
    "coorfolder <- 'C:\\\\Users\\\\keers001\\\\OneDrive\\ -\\ WageningenUR\\\\RETURN\\\\Data\\\\RETURN\\\\20191019_SimulationOptSAR\\\\'\n",
    "coorfile <- 'Split_RndmSample_NoFire_5_Tree_80_scl_30_npnt_20000_latLon.csv'\n",
    "\n",
    "coors <- read.csv(file.path(coorfolder, coorfile))\n",
    "lon <- coors[[1]] \n",
    "lon<- round(lon,3)\n",
    "lat <- coors[[2]]\n",
    "lat<- round(lat,3)\n",
    "\n",
    "maxWait <- 3*60*60#*60\n",
    "maxWaitShort <- 5*60#*60\n",
    "mail <- \"wandadekeersmaecker@gmail.com\"\n",
    "pword <- 'Paprika12'\n",
    "\n",
    "buff <- '1'\n",
    "startdate <- '2000-11-01'\n",
    "enddate <- '2025-01-01'\n",
    "\n",
    "polVV <- TRUE\n",
    "polVH <- TRUE\n",
    "polDIFF <- FALSE\n",
    "\n",
    "orbitASC <- FALSE\n",
    "orbitDES <- TRUE\n",
    "\n",
    "prepSlope <- TRUE\n",
    "prepSpeckle <- TRUE\n",
    "SpeckleMulti <- TRUE\n",
    "\n",
    "BSGamma <- TRUE\n",
    "ScaleDB <- TRUE\n",
    "DLperDate <- FALSE\n",
    "\n",
    "SCshot <- TRUE\n",
    "SCpath <- 'C:\\\\Users\\\\keers001\\\\OneDrive\\ -\\ WageningenUR\\\\RETURN\\\\Data\\\\RETURN\\\\20191019_SimulationOptSAR\\\\S1\\\\SampledData\\\\Screenshot\\\\SC_'\n"
   ]
  },
  {
   "cell_type": "markdown",
   "metadata": {},
   "source": [
    "## Iterate over coordinates and download data"
   ]
  },
  {
   "cell_type": "code",
   "execution_count": null,
   "metadata": {},
   "outputs": [],
   "source": [
    "system(paste0('jupyter-nbconvert.exe ', nfolder, 'Download_S1_functions.ipynb  --to script'))#, intern=FALSE\n",
    "source(file.path(nfolder, 'Download_S1_functions.r'))\n",
    "\n",
    "for(i in 1:10){\n",
    "    RunS1app(mail, pword, as.character(lat[i]), as.character(lon[i]), buff, startdate, enddate, polVV, polVH, polDIFF, \n",
    "            orbitASC, orbitDES, prepSlope, prepSpeckle, SpeckleMulti, BSGamma,\n",
    "            ScaleDB, DLperDate, maxWait, maxWaitShort, SCshot, paste0(SCpath,i))\n",
    "}\n",
    "\n",
    "#(cl <- (detectCores() - 1) %>%  makeCluster) %>% registerDoParallel\n",
    "\n",
    "#foreach(i = 1:10, .packages = c(\"rvest\", \"magrittr\", \"RSelenium\", \"pingr\"))  %dopar%  {\n",
    "#    RunS1app(mail, pword, as.character(lat[i]), as.character(lon[i]), buff, startdate, enddate, polVV, polVH, polDIFF, \n",
    "#            orbitASC, orbitDES, prepSlope, prepSpeckle, SpeckleMulti, BSGamma,\n",
    "#            ScaleDB, DLperDate, maxWait, maxWaitShort, SCshot, paste0(SCpath,i))\n",
    "#}\n",
    "\n",
    "#stopImplicitCluster()"
   ]
  },
  {
   "cell_type": "code",
   "execution_count": null,
   "metadata": {},
   "outputs": [],
   "source": [
    "#as.numeric(lat[i])"
   ]
  },
  {
   "cell_type": "code",
   "execution_count": null,
   "metadata": {},
   "outputs": [],
   "source": [
    "#as.numeric(lon[i])"
   ]
  },
  {
   "cell_type": "code",
   "execution_count": null,
   "metadata": {},
   "outputs": [],
   "source": [
    "i"
   ]
  },
  {
   "cell_type": "code",
   "execution_count": null,
   "metadata": {},
   "outputs": [],
   "source": []
  }
 ],
 "metadata": {
  "kernelspec": {
   "display_name": "R",
   "language": "R",
   "name": "ir"
  },
  "language_info": {
   "codemirror_mode": "r",
   "file_extension": ".r",
   "mimetype": "text/x-r-source",
   "name": "R",
   "pygments_lexer": "r",
   "version": "3.6.1"
  }
 },
 "nbformat": 4,
 "nbformat_minor": 2
}
