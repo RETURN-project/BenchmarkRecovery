{
 "cells": [
  {
   "cell_type": "markdown",
   "metadata": {},
   "source": [
    "# Test recovery indicators"
   ]
  },
  {
   "cell_type": "markdown",
   "metadata": {},
   "source": [
    "## Libraries"
   ]
  },
  {
   "cell_type": "code",
   "execution_count": null,
   "metadata": {},
   "outputs": [],
   "source": [
    "library(testthat)"
   ]
  },
  {
   "cell_type": "markdown",
   "metadata": {},
   "source": [
    "## Unit test of recovery metrics on dense, raw time series"
   ]
  },
  {
   "cell_type": "code",
   "execution_count": null,
   "metadata": {},
   "outputs": [],
   "source": [
    "test_that(\"Test RRI dense raw\",{\n",
    "nfolder <- 'C:\\\\Users\\\\keers001\\\\Dropbox\\\\output\\\\Jupyter_notebook\\\\'\n",
    "system(paste0('jupyter-nbconvert.exe ', nfolder, 'rec_Functions.ipynb  --to script'))#, intern=FALSE\n",
    "source(file.path(nfolder, 'rec_Functions.r'))\n",
    "tsi <- c(rep(5,24), rep(1,12),rep(3,24), rep(4,26))\n",
    "tdist <- 25\n",
    "obspyr <- 12\n",
    "\n",
    "shortDenseTS <- T\n",
    "nPre <- 2\n",
    "nDist <- 12\n",
    "nPostMin <- 3\n",
    "nPostMax <-5\n",
    "\n",
    "rec <- calcFrazier(tsi, tdist, obspyr, shortDenseTS, nPre, nDist, nPostMin, nPostMax)\n",
    "    expect_equal(rec[['RRI']], (4-1)/(5-1))\n",
    "    expect_equal(rec[['R80P']], (4)/(5*0.8))\n",
    "    expect_equal(rec[['YrYr']], (4-1)/4)\n",
    "})"
   ]
  },
  {
   "cell_type": "markdown",
   "metadata": {},
   "source": [
    "## Unit test of recovery metrics on annual, raw time series"
   ]
  },
  {
   "cell_type": "code",
   "execution_count": null,
   "metadata": {},
   "outputs": [],
   "source": [
    "test_that(\"Test RRI annual raw\",{\n",
    "nfolder <- 'C:\\\\Users\\\\keers001\\\\Dropbox\\\\output\\\\Jupyter_notebook\\\\'\n",
    "system(paste0('jupyter-nbconvert.exe ', nfolder, 'rec_Functions.ipynb  --to script'))#, intern=FALSE\n",
    "source(file.path(nfolder, 'rec_Functions.r'))\n",
    "tsi <- c(rep(5,24), rep(1,12),rep(3,24), rep(4,36))\n",
    "tsi <- toAnnualTS(rep(c(1,2,3,4,5,6,7,6,5,4,3,2),8),tsi,12)\n",
    "tdist <- ceiling(25/12)\n",
    "obspyr <- 1\n",
    "\n",
    "shortDenseTS <- F\n",
    "nPre <- 2\n",
    "nDist <- 12\n",
    "nPostMin <- 3\n",
    "nPostMax <-5\n",
    "\n",
    "rec <- calcFrazier(tsi, tdist, obspyr, shortDenseTS, nPre, nDist, nPostMin, nPostMax)\n",
    "    expect_equal(rec[['RRI']], (4-1)/(5-1))\n",
    "    expect_equal(rec[['R80P']], (4)/(5*0.8))\n",
    "    expect_equal(rec[['YrYr']], (4-1)/5)\n",
    "})\n"
   ]
  },
  {
   "cell_type": "code",
   "execution_count": null,
   "metadata": {},
   "outputs": [],
   "source": []
  },
  {
   "cell_type": "code",
   "execution_count": null,
   "metadata": {},
   "outputs": [],
   "source": []
  }
 ],
 "metadata": {
  "kernelspec": {
   "display_name": "R",
   "language": "R",
   "name": "ir"
  },
  "language_info": {
   "codemirror_mode": "r",
   "file_extension": ".r",
   "mimetype": "text/x-r-source",
   "name": "R",
   "pygments_lexer": "r",
   "version": "3.6.1"
  }
 },
 "nbformat": 4,
 "nbformat_minor": 2
}
